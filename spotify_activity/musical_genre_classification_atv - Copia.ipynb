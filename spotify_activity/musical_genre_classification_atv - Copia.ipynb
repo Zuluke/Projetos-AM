{
 "cells": [
  {
   "cell_type": "markdown",
   "metadata": {},
   "source": [
    "**Table of contents**<a id='toc0_'></a>    \n",
    "- [Imports](#toc1_)    \n",
    "- [Read Data](#toc2_)    \n",
    "- [Data Preprocessing](#toc3_)\n",
    "  - [Drop rows with missing values](#toc3_2_)    \n",
    "  - [Removing Categorical Columns](#toc4_)    \n",
    "  - [Split Train and Test Data](#toc5_)    \n",
    "  - [Data Cleaning](#toc6_)    \n",
    "    - [Impute missing numeric data](#toc6_1_)    \n",
    "  - [Data Normalization](#toc7_)    \n",
    "- [Model training](#toc8_)    \n",
    "  - [KNN](#toc8_1_)  \n",
    "  - [LVQ](#toc8_2_)\n",
    "  - [Decision Tree](#toc8_3_)  \n",
    "  - [MLP](#toc8_4_)\n",
    "  - [SVM](#toc8_5_)  \n",
    "  - [Stacking](#toc8_6_)  \n",
    "  - [Random Forest](#toc8_7_)  \n",
    "\n",
    "<!-- vscode-jupyter-toc-config\n",
    "\tnumbering=false\n",
    "\tanchor=true\n",
    "\tflat=false\n",
    "\tminLevel=1\n",
    "\tmaxLevel=6\n",
    "\t/vscode-jupyter-toc-config -->\n",
    "<!-- THIS CELL WILL BE REPLACED ON TOC UPDATE. DO NOT WRITE YOUR TEXT IN THIS CELL -->"
   ]
  },
  {
   "cell_type": "markdown",
   "metadata": {},
   "source": [
    "----"
   ]
  },
  {
   "cell_type": "markdown",
   "metadata": {},
   "source": [
    "# <a id='toc1_'></a>[Imports](#toc0_)"
   ]
  },
  {
   "cell_type": "code",
   "execution_count": 1,
   "metadata": {},
   "outputs": [],
   "source": [
    "import numpy as np\n",
    "from matplotlib import pyplot as plt\n",
    "from math import sqrt\n",
    "from tqdm import tqdm\n",
    "\n",
    "import pandas as pd\n",
    "pd.options.display.max_colwidth = 1000\n",
    "pd.options.display.max_columns = 1000\n",
    "pd.options.display.max_rows = 200\n",
    "\n",
    "import sklearn\n",
    "from sklearn.impute import SimpleImputer\n",
    "from sklearn.model_selection import cross_validate,train_test_split, GridSearchCV\n",
    "from sklearn.preprocessing import LabelEncoder,MinMaxScaler\n",
    "from sklearn.neighbors import KNeighborsClassifier,NearestCentroid\n",
    "from sklearn.neural_network import MLPClassifier\n",
    "from sklearn.tree import DecisionTreeClassifier\n",
    "from sklearn.ensemble import StackingClassifier, RandomForestClassifier\n",
    "from sklearn.svm import SVC\n",
    "\n",
    "from sklearn.metrics import f1_score, recall_score, precision_score, accuracy_score, classification_report\n",
    "import random\n",
    "from random import seed,randrange\n",
    "import requests\n",
    "import io\n",
    "import pickle"
   ]
  },
  {
   "cell_type": "markdown",
   "metadata": {},
   "source": [
    "# <a id='toc2_'></a>[Read Data](#toc0_)"
   ]
  },
  {
   "cell_type": "code",
   "execution_count": 2,
   "metadata": {},
   "outputs": [],
   "source": [
    "# Downloading the csv file from your GitHub account\n",
    "\n",
    "url = \"https://raw.githubusercontent.com/Zuluke/Projetos-AM/main/spotify_activity/dataset.csv\" # Make sure the url is the raw version of the file on GitHub\n",
    "download = requests.get(url).content\n",
    "\n",
    "# Reading the downloaded content and turning it into a pandas dataframe\n",
    "\n",
    "df = pd.read_csv(io.StringIO(download.decode('utf-8')))"
   ]
  },
  {
   "cell_type": "markdown",
   "metadata": {},
   "source": [
    "## <a id='toc3_'></a>[Visualize Data](#toc0_)"
   ]
  },
  {
   "cell_type": "code",
   "execution_count": 32,
   "metadata": {},
   "outputs": [
    {
     "name": "stdout",
     "output_type": "stream",
     "text": [
      "(114000, 21)\n",
      "\n",
      "\n",
      "<class 'pandas.core.frame.DataFrame'>\n",
      "RangeIndex: 114000 entries, 0 to 113999\n",
      "Data columns (total 21 columns):\n",
      " #   Column            Non-Null Count   Dtype  \n",
      "---  ------            --------------   -----  \n",
      " 0   Unnamed: 0        114000 non-null  int64  \n",
      " 1   track_id          114000 non-null  object \n",
      " 2   artists           113999 non-null  object \n",
      " 3   album_name        113999 non-null  object \n",
      " 4   track_name        113999 non-null  object \n",
      " 5   popularity        114000 non-null  int64  \n",
      " 6   duration_ms       114000 non-null  int64  \n",
      " 7   explicit          114000 non-null  bool   \n",
      " 8   danceability      114000 non-null  float64\n",
      " 9   energy            114000 non-null  float64\n",
      " 10  key               114000 non-null  int64  \n",
      " 11  loudness          114000 non-null  float64\n",
      " 12  mode              114000 non-null  int64  \n",
      " 13  speechiness       114000 non-null  float64\n",
      " 14  acousticness      114000 non-null  float64\n",
      " 15  instrumentalness  114000 non-null  float64\n",
      " 16  liveness          114000 non-null  float64\n",
      " 17  valence           114000 non-null  float64\n",
      " 18  tempo             114000 non-null  float64\n",
      " 19  time_signature    114000 non-null  int64  \n",
      " 20  track_genre       114000 non-null  object \n",
      "dtypes: bool(1), float64(9), int64(6), object(5)\n",
      "memory usage: 17.5+ MB\n",
      "\n",
      "\n"
     ]
    },
    {
     "data": {
      "text/html": [
       "<div>\n",
       "<style scoped>\n",
       "    .dataframe tbody tr th:only-of-type {\n",
       "        vertical-align: middle;\n",
       "    }\n",
       "\n",
       "    .dataframe tbody tr th {\n",
       "        vertical-align: top;\n",
       "    }\n",
       "\n",
       "    .dataframe thead th {\n",
       "        text-align: right;\n",
       "    }\n",
       "</style>\n",
       "<table border=\"1\" class=\"dataframe\">\n",
       "  <thead>\n",
       "    <tr style=\"text-align: right;\">\n",
       "      <th></th>\n",
       "      <th>Unnamed: 0</th>\n",
       "      <th>track_id</th>\n",
       "      <th>artists</th>\n",
       "      <th>album_name</th>\n",
       "      <th>track_name</th>\n",
       "      <th>popularity</th>\n",
       "      <th>duration_ms</th>\n",
       "      <th>explicit</th>\n",
       "      <th>danceability</th>\n",
       "      <th>energy</th>\n",
       "      <th>key</th>\n",
       "      <th>loudness</th>\n",
       "      <th>mode</th>\n",
       "      <th>speechiness</th>\n",
       "      <th>acousticness</th>\n",
       "      <th>instrumentalness</th>\n",
       "      <th>liveness</th>\n",
       "      <th>valence</th>\n",
       "      <th>tempo</th>\n",
       "      <th>time_signature</th>\n",
       "      <th>track_genre</th>\n",
       "    </tr>\n",
       "  </thead>\n",
       "  <tbody>\n",
       "    <tr>\n",
       "      <th>0</th>\n",
       "      <td>0</td>\n",
       "      <td>5SuOikwiRyPMVoIQDJUgSV</td>\n",
       "      <td>Gen Hoshino</td>\n",
       "      <td>Comedy</td>\n",
       "      <td>Comedy</td>\n",
       "      <td>73</td>\n",
       "      <td>230666</td>\n",
       "      <td>False</td>\n",
       "      <td>0.676</td>\n",
       "      <td>0.4610</td>\n",
       "      <td>1</td>\n",
       "      <td>-6.746</td>\n",
       "      <td>0</td>\n",
       "      <td>0.1430</td>\n",
       "      <td>0.0322</td>\n",
       "      <td>0.000001</td>\n",
       "      <td>0.3580</td>\n",
       "      <td>0.715</td>\n",
       "      <td>87.917</td>\n",
       "      <td>4</td>\n",
       "      <td>acoustic</td>\n",
       "    </tr>\n",
       "    <tr>\n",
       "      <th>1</th>\n",
       "      <td>1</td>\n",
       "      <td>4qPNDBW1i3p13qLCt0Ki3A</td>\n",
       "      <td>Ben Woodward</td>\n",
       "      <td>Ghost (Acoustic)</td>\n",
       "      <td>Ghost - Acoustic</td>\n",
       "      <td>55</td>\n",
       "      <td>149610</td>\n",
       "      <td>False</td>\n",
       "      <td>0.420</td>\n",
       "      <td>0.1660</td>\n",
       "      <td>1</td>\n",
       "      <td>-17.235</td>\n",
       "      <td>1</td>\n",
       "      <td>0.0763</td>\n",
       "      <td>0.9240</td>\n",
       "      <td>0.000006</td>\n",
       "      <td>0.1010</td>\n",
       "      <td>0.267</td>\n",
       "      <td>77.489</td>\n",
       "      <td>4</td>\n",
       "      <td>acoustic</td>\n",
       "    </tr>\n",
       "    <tr>\n",
       "      <th>2</th>\n",
       "      <td>2</td>\n",
       "      <td>1iJBSr7s7jYXzM8EGcbK5b</td>\n",
       "      <td>Ingrid Michaelson;ZAYN</td>\n",
       "      <td>To Begin Again</td>\n",
       "      <td>To Begin Again</td>\n",
       "      <td>57</td>\n",
       "      <td>210826</td>\n",
       "      <td>False</td>\n",
       "      <td>0.438</td>\n",
       "      <td>0.3590</td>\n",
       "      <td>0</td>\n",
       "      <td>-9.734</td>\n",
       "      <td>1</td>\n",
       "      <td>0.0557</td>\n",
       "      <td>0.2100</td>\n",
       "      <td>0.000000</td>\n",
       "      <td>0.1170</td>\n",
       "      <td>0.120</td>\n",
       "      <td>76.332</td>\n",
       "      <td>4</td>\n",
       "      <td>acoustic</td>\n",
       "    </tr>\n",
       "    <tr>\n",
       "      <th>3</th>\n",
       "      <td>3</td>\n",
       "      <td>6lfxq3CG4xtTiEg7opyCyx</td>\n",
       "      <td>Kina Grannis</td>\n",
       "      <td>Crazy Rich Asians (Original Motion Picture Soundtrack)</td>\n",
       "      <td>Can't Help Falling In Love</td>\n",
       "      <td>71</td>\n",
       "      <td>201933</td>\n",
       "      <td>False</td>\n",
       "      <td>0.266</td>\n",
       "      <td>0.0596</td>\n",
       "      <td>0</td>\n",
       "      <td>-18.515</td>\n",
       "      <td>1</td>\n",
       "      <td>0.0363</td>\n",
       "      <td>0.9050</td>\n",
       "      <td>0.000071</td>\n",
       "      <td>0.1320</td>\n",
       "      <td>0.143</td>\n",
       "      <td>181.740</td>\n",
       "      <td>3</td>\n",
       "      <td>acoustic</td>\n",
       "    </tr>\n",
       "    <tr>\n",
       "      <th>4</th>\n",
       "      <td>4</td>\n",
       "      <td>5vjLSffimiIP26QG5WcN2K</td>\n",
       "      <td>Chord Overstreet</td>\n",
       "      <td>Hold On</td>\n",
       "      <td>Hold On</td>\n",
       "      <td>82</td>\n",
       "      <td>198853</td>\n",
       "      <td>False</td>\n",
       "      <td>0.618</td>\n",
       "      <td>0.4430</td>\n",
       "      <td>2</td>\n",
       "      <td>-9.681</td>\n",
       "      <td>1</td>\n",
       "      <td>0.0526</td>\n",
       "      <td>0.4690</td>\n",
       "      <td>0.000000</td>\n",
       "      <td>0.0829</td>\n",
       "      <td>0.167</td>\n",
       "      <td>119.949</td>\n",
       "      <td>4</td>\n",
       "      <td>acoustic</td>\n",
       "    </tr>\n",
       "  </tbody>\n",
       "</table>\n",
       "</div>"
      ],
      "text/plain": [
       "   Unnamed: 0                track_id                 artists  \\\n",
       "0           0  5SuOikwiRyPMVoIQDJUgSV             Gen Hoshino   \n",
       "1           1  4qPNDBW1i3p13qLCt0Ki3A            Ben Woodward   \n",
       "2           2  1iJBSr7s7jYXzM8EGcbK5b  Ingrid Michaelson;ZAYN   \n",
       "3           3  6lfxq3CG4xtTiEg7opyCyx            Kina Grannis   \n",
       "4           4  5vjLSffimiIP26QG5WcN2K        Chord Overstreet   \n",
       "\n",
       "                                               album_name  \\\n",
       "0                                                  Comedy   \n",
       "1                                        Ghost (Acoustic)   \n",
       "2                                          To Begin Again   \n",
       "3  Crazy Rich Asians (Original Motion Picture Soundtrack)   \n",
       "4                                                 Hold On   \n",
       "\n",
       "                   track_name  popularity  duration_ms  explicit  \\\n",
       "0                      Comedy          73       230666     False   \n",
       "1            Ghost - Acoustic          55       149610     False   \n",
       "2              To Begin Again          57       210826     False   \n",
       "3  Can't Help Falling In Love          71       201933     False   \n",
       "4                     Hold On          82       198853     False   \n",
       "\n",
       "   danceability  energy  key  loudness  mode  speechiness  acousticness  \\\n",
       "0         0.676  0.4610    1    -6.746     0       0.1430        0.0322   \n",
       "1         0.420  0.1660    1   -17.235     1       0.0763        0.9240   \n",
       "2         0.438  0.3590    0    -9.734     1       0.0557        0.2100   \n",
       "3         0.266  0.0596    0   -18.515     1       0.0363        0.9050   \n",
       "4         0.618  0.4430    2    -9.681     1       0.0526        0.4690   \n",
       "\n",
       "   instrumentalness  liveness  valence    tempo  time_signature track_genre  \n",
       "0          0.000001    0.3580    0.715   87.917               4    acoustic  \n",
       "1          0.000006    0.1010    0.267   77.489               4    acoustic  \n",
       "2          0.000000    0.1170    0.120   76.332               4    acoustic  \n",
       "3          0.000071    0.1320    0.143  181.740               3    acoustic  \n",
       "4          0.000000    0.0829    0.167  119.949               4    acoustic  "
      ]
     },
     "execution_count": 32,
     "metadata": {},
     "output_type": "execute_result"
    }
   ],
   "source": [
    "df.shape\n",
    "print(df.shape)\n",
    "print('\\n')\n",
    "df.info()\n",
    "print('\\n')\n",
    "df.head()"
   ]
  },
  {
   "cell_type": "markdown",
   "metadata": {},
   "source": [
    "# <a id='toc3_'></a>[Data Preprocessing](#toc0_)"
   ]
  },
  {
   "cell_type": "markdown",
   "metadata": {},
   "source": [
    "## <a id='toc3_2_'></a>[Drop rows with missing values](#toc0_)"
   ]
  },
  {
   "cell_type": "code",
   "execution_count": 3,
   "metadata": {},
   "outputs": [],
   "source": [
    "df.dropna(inplace=True, axis=0, how='any')"
   ]
  },
  {
   "cell_type": "markdown",
   "metadata": {},
   "source": [
    "## <a id='toc4_'></a>[Removing Categorical Columns](#toc0_)"
   ]
  },
  {
   "cell_type": "code",
   "execution_count": 4,
   "metadata": {},
   "outputs": [
    {
     "name": "stdout",
     "output_type": "stream",
     "text": [
      "<class 'pandas.core.frame.DataFrame'>\n",
      "Index: 113999 entries, 0 to 113999\n",
      "Data columns (total 12 columns):\n",
      " #   Column            Non-Null Count   Dtype  \n",
      "---  ------            --------------   -----  \n",
      " 0   popularity        113999 non-null  int64  \n",
      " 1   duration_ms       113999 non-null  int64  \n",
      " 2   danceability      113999 non-null  float64\n",
      " 3   energy            113999 non-null  float64\n",
      " 4   loudness          113999 non-null  float64\n",
      " 5   speechiness       113999 non-null  float64\n",
      " 6   acousticness      113999 non-null  float64\n",
      " 7   instrumentalness  113999 non-null  float64\n",
      " 8   liveness          113999 non-null  float64\n",
      " 9   valence           113999 non-null  float64\n",
      " 10  tempo             113999 non-null  float64\n",
      " 11  track_genre       113999 non-null  object \n",
      "dtypes: float64(9), int64(2), object(1)\n",
      "memory usage: 11.3+ MB\n"
     ]
    }
   ],
   "source": [
    "categorical_columns = ['Unnamed: 0', 'track_id', 'artists', 'album_name', 'track_name', 'explicit', 'key', 'mode', 'time_signature']\n",
    "df = df.drop(categorical_columns, axis=1)\n",
    "df.info()"
   ]
  },
  {
   "cell_type": "markdown",
   "metadata": {},
   "source": [
    "## <a id='toc5_'></a>[Split Train and Test Data](#toc0_)"
   ]
  },
  {
   "cell_type": "code",
   "execution_count": 5,
   "metadata": {},
   "outputs": [],
   "source": [
    "def train_validation_test_split(df, target_column, validation_size=0.1, test_size=0.1, random_state=42):\n",
    "    df_train, df_test = train_test_split(df, test_size=test_size, random_state=random_state, stratify=df[target_column])\n",
    "    \n",
    "    df_train, df_validation = train_test_split(df_train,\n",
    "                                               test_size=validation_size/(1 - test_size),\n",
    "                                               random_state=random_state,\n",
    "                                               stratify=df_train[target_column])\n",
    "    return df_train, df_validation, df_test  "
   ]
  },
  {
   "cell_type": "code",
   "execution_count": 6,
   "metadata": {},
   "outputs": [
    {
     "name": "stdout",
     "output_type": "stream",
     "text": [
      "<class 'pandas.core.frame.DataFrame'>\n",
      "Index: 113999 entries, 0 to 113999\n",
      "Data columns (total 12 columns):\n",
      " #   Column            Non-Null Count   Dtype  \n",
      "---  ------            --------------   -----  \n",
      " 0   popularity        113999 non-null  int64  \n",
      " 1   duration_ms       113999 non-null  int64  \n",
      " 2   danceability      113999 non-null  float64\n",
      " 3   energy            113999 non-null  float64\n",
      " 4   loudness          113999 non-null  float64\n",
      " 5   speechiness       113999 non-null  float64\n",
      " 6   acousticness      113999 non-null  float64\n",
      " 7   instrumentalness  113999 non-null  float64\n",
      " 8   liveness          113999 non-null  float64\n",
      " 9   valence           113999 non-null  float64\n",
      " 10  tempo             113999 non-null  float64\n",
      " 11  track_genre       113999 non-null  object \n",
      "dtypes: float64(9), int64(2), object(1)\n",
      "memory usage: 11.3+ MB\n",
      "\n",
      " 0.5999964911972913 0.2000017544013544 0.2000017544013544\n"
     ]
    }
   ],
   "source": [
    "df_train, df_validation, df_test = train_validation_test_split(df, \"track_genre\",0.2, 0.2)\n",
    "df.info()\n",
    "\n",
    "print('\\n',len(df_train.values)/float(len(df)),len(df_test.values)/float(len(df)),len(df_validation.values)/float(len(df))) #Garantindo que o percentual ocorre"
   ]
  },
  {
   "cell_type": "markdown",
   "metadata": {},
   "source": [
    "## <a id='toc6_'></a>[Data Cleaning](#toc0_)"
   ]
  },
  {
   "cell_type": "markdown",
   "metadata": {},
   "source": [
    "### <a id='toc6_1_'></a>[Impute missing numeric data](#toc0_)"
   ]
  },
  {
   "cell_type": "code",
   "execution_count": 7,
   "metadata": {},
   "outputs": [],
   "source": [
    "numeric_columns = df_train.select_dtypes(include=['number']).columns\n",
    "\n",
    "numeric_imputer = SimpleImputer(strategy='median')\n",
    "numeric_imputer.fit(df_train[numeric_columns])\n",
    "\n",
    "df_train[numeric_columns] = numeric_imputer.transform(df_train[numeric_columns])\n",
    "df_validation[numeric_columns] = numeric_imputer.transform(df_validation[numeric_columns])\n",
    "df_test[numeric_columns] = numeric_imputer.transform(df_test[numeric_columns])"
   ]
  },
  {
   "cell_type": "markdown",
   "metadata": {},
   "source": [
    "## <a id='toc7_'></a>[Data Normalization](#toc0_)"
   ]
  },
  {
   "cell_type": "code",
   "execution_count": 8,
   "metadata": {},
   "outputs": [],
   "source": [
    "normalizer = MinMaxScaler()\n",
    "\n",
    "normalizer.fit(df_train[numeric_columns])\n",
    "\n",
    "df_train[numeric_columns] = normalizer.transform(df_train[numeric_columns])\n",
    "df_validation[numeric_columns] = normalizer.transform(df_validation[numeric_columns])\n",
    "df_test[numeric_columns] = normalizer.transform(df_test[numeric_columns])"
   ]
  },
  {
   "cell_type": "code",
   "execution_count": 9,
   "metadata": {},
   "outputs": [],
   "source": [
    "#Div. de dados atributos e classe\n",
    "df_cara_train = df_train[numeric_columns].values  #caracteristicas\n",
    "df_clas_train = df_train['track_genre'].values #classe\n",
    "\n",
    "df_cara_validation = df_validation[numeric_columns].values  #caracteristicas\n",
    "df_clas_validation = df_validation['track_genre'].values #classe\n",
    "\n",
    "df_cara_test = df_test[numeric_columns].values  #caracteristicas\n",
    "df_clas_test = df_test['track_genre'].values #classe"
   ]
  },
  {
   "cell_type": "markdown",
   "metadata": {},
   "source": [
    "# <a id='toc8_'></a>[Model training](#toc0_)"
   ]
  },
  {
   "cell_type": "markdown",
   "metadata": {},
   "source": [
    "## <a id='toc8_1_'></a>[KNN](#toc0_)"
   ]
  },
  {
   "cell_type": "code",
   "execution_count": 15,
   "metadata": {},
   "outputs": [
    {
     "name": "stdout",
     "output_type": "stream",
     "text": [
      "[0.17642146 0.16329389 0.17569539 0.18255353 0.18487841 0.18497905\n",
      " 0.18571474 0.18558509 0.18439735 0.18390946 0.18471261 0.18363075\n",
      " 0.18432642 0.18249941 0.18229252 0.18081921 0.18064847 0.17945825\n",
      " 0.18035265 0.18077085 0.18020759 0.17949938 0.17908914 0.17729188\n",
      " 0.17638633 0.1755122  0.17498116 0.17538158 0.17400104 0.1734301\n",
      " 0.17364342 0.17314272 0.17297175 0.17271418 0.17284106 0.17179817\n",
      " 0.17102728 0.17071442 0.17032072 0.1699916  0.19087878 0.17709372\n",
      " 0.19216631 0.20037558 0.20299684 0.20438646 0.20579672 0.2060207\n",
      " 0.20554318 0.20704705 0.20546339 0.20397883 0.20322883 0.20269859\n",
      " 0.20266339 0.20243221 0.20196117 0.2032894  0.20320699 0.20277698\n",
      " 0.20199777 0.20158935 0.2010892  0.20000683 0.2008053  0.20033155\n",
      " 0.20090226 0.20082566 0.19990506 0.19897568 0.19675984 0.19692632\n",
      " 0.19693009 0.19699069 0.19636382 0.19595918 0.19710388 0.19526259\n",
      " 0.19516007 0.19519686] \n",
      "\n",
      "\n"
     ]
    }
   ],
   "source": [
    "knn = KNeighborsClassifier().fit(df_cara_train,df_clas_train)\n",
    "param_grid = {\n",
    "    'n_neighbors': np.arange(1,81,2),\n",
    "    'metric': ['euclidean', 'manhattan']\n",
    "}\n",
    "grid = GridSearchCV(knn, param_grid, cv=5, scoring='f1_weighted')\n",
    "grid.fit(df_cara_train,df_clas_train)\n",
    "\n",
    "print(grid.cv_results_['mean_test_score'],'\\n\\n')\n",
    "print(f'Melhor parametro: {grid.best_params_}')\n",
    "print(f'Melhor resultado: {grid.best_score_}','\\n\\n')\n",
    "\n",
    "df_clas_pred = grid.best_estimator_.predict(df_cara_test)\n",
    "\n",
    "evaluation={\n",
    "'accuracy': accuracy_score(df_clas_test, df_clas_pred),\n",
    "'precision': precision_score(df_clas_test, df_clas_pred, average='weighted'),\n",
    "'recall': recall_score(df_clas_test, df_clas_pred, average='weighted'),\n",
    "'f1': f1_score(df_clas_test, df_clas_pred, average='weighted')\n",
    "}\n",
    "\n",
    "print(f'Dados de Teste')\n",
    "print(evaluation)"
   ]
  },
  {
   "cell_type": "markdown",
   "metadata": {},
   "source": [
    "## <a id='toc8_2_'></a>[LVQ](#toc0_)"
   ]
  },
  {
   "cell_type": "code",
   "execution_count": 66,
   "metadata": {},
   "outputs": [],
   "source": [
    "# Split a dataset into k folds\n",
    "def cross_validation_split(dataset, n_folds):\n",
    "\tdataset_split = list()\n",
    "\tdataset_copy = list(dataset)\n",
    "\tfold_size = int(len(dataset) / n_folds)\n",
    "\tfor i in range(n_folds):\n",
    "\t\tfold = list()\n",
    "\t\twhile len(fold) < fold_size:\n",
    "\t\t\tindex = randrange(len(dataset_copy))\n",
    "\t\t\tfold.append(dataset_copy.pop(index))\n",
    "\t\tdataset_split.append(fold)\n",
    "\treturn dataset_split\n",
    "\n",
    "def accuracy_metric(actual, predicted):\n",
    "\tcorrect = 0\n",
    "\tfor i in range(len(actual)):\n",
    "\t\tif actual[i] == predicted[i]:\n",
    "\t\t\tcorrect += 1\n",
    "\treturn correct / float(len(actual)) * 100.0\n",
    "\n",
    "def calculate_metrics_per_class(actual, predicted, class_label):\n",
    "    TP = 0  # Verdadeiros Positivos\n",
    "    FP = 0  # Falsos Positivos\n",
    "    FN = 0  # Falsos Negativos\n",
    "    for i in range(len(actual)):\n",
    "        if actual[i] == predicted[i] == class_label:\n",
    "            TP += 1\n",
    "        elif predicted[i] == class_label and actual[i] != class_label:\n",
    "            FP += 1\n",
    "        elif actual[i] == class_label and predicted[i] != class_label:\n",
    "            FN += 1\n",
    "    return TP, FP, FN\n",
    "\n",
    "def macro_recall(actual, predicted):\n",
    "    unique_classes = set(actual)\n",
    "    recalls = []\n",
    "    for class_label in unique_classes:\n",
    "        TP, _, FN = calculate_metrics_per_class(actual, predicted, class_label)\n",
    "        recall = TP / (TP + FN) if (TP + FN) else 0\n",
    "        recalls.append(recall)\n",
    "    return sum(recalls) / len(recalls) * 100.0\n",
    "\n",
    "def macro_precision(actual, predicted):\n",
    "    unique_classes = set(actual)\n",
    "    precisions = []\n",
    "    for class_label in unique_classes:\n",
    "        TP, FP, _ = calculate_metrics_per_class(actual, predicted, class_label)\n",
    "        precision = TP / (TP + FP) if (TP + FP) else 0\n",
    "        precisions.append(precision)\n",
    "    return sum(precisions) / len(precisions) * 100.0\n",
    "\n",
    "def macro_f1_score(actual, predicted):\n",
    "    precision = macro_precision(actual, predicted) / 100.0\n",
    "    recall = macro_recall(actual, predicted) / 100.0\n",
    "    return 2 * (precision * recall) / (precision + recall) * 100.0 if (precision + recall) else 0\n",
    "\n",
    "\n",
    "# Evaluate an algorithm using a cross validation split\n",
    "def evaluate_algorithm(dataset, dataset_validation, algorithm, n_folds, *args):\n",
    "\tfolds = cross_validation_split(dataset, n_folds)\n",
    "\tscores_cv = list()\n",
    "\tscores_val = list()\n",
    "\t\n",
    "\tscores_cv_recall = list()\n",
    "\tscores_cv_precision = list()\n",
    "\tscores_cv_f1 = list()\n",
    "\n",
    "\tscores_val_recall = list()\n",
    "\tscores_val_precision = list()\n",
    "\tscores_val_f1 = list()\n",
    "\n",
    "\n",
    "\tactual_validation = [row[-1] for row in dataset_validation]\n",
    "\tfor fold in folds:\n",
    "\t\ttrain_set = list(folds)\n",
    "\t\ttrain_set.remove(fold)\n",
    "\t\ttrain_set = sum(train_set, [])\n",
    "\t\ttest_set = list()\n",
    "\t\tfor row in fold:\n",
    "\t\t\trow_copy = list(row)\n",
    "\t\t\ttest_set.append(row_copy)\n",
    "\t\t\trow_copy[-1] = None\n",
    "\t\tpredicted_test, predicted_validation = algorithm(train_set, test_set, dataset_validation, *args)\n",
    "\t\tactual = [row[-1] for row in fold]\n",
    "  \n",
    "\t\taccuracy_test = accuracy_metric(actual, predicted_test)\n",
    "\t\tscores_cv.append(accuracy_test)\n",
    "  \n",
    "\t\tscores_cv_recall.append(macro_recall(actual, predicted_test))\n",
    "\t\tscores_cv_precision.append(macro_precision(actual, predicted_test))\n",
    "\t\tscores_cv_f1.append(macro_f1_score(actual, predicted_test))\n",
    "  \n",
    "\t\taccuracy_val = accuracy_metric(actual_validation, predicted_validation)\n",
    "\t\tscores_val.append(accuracy_val)\n",
    "\t\t\n",
    "\t\tscores_val_recall.append(macro_recall(actual, predicted_validation))\n",
    "\t\tscores_val_precision.append(macro_precision(actual, predicted_validation))\n",
    "\t\tscores_val_f1.append(macro_f1_score(actual, predicted_validation))\n",
    "\n",
    "\treturn scores_cv, scores_val, scores_cv_recall, scores_val_recall, scores_cv_precision, scores_val_precision, scores_cv_f1, scores_val_f1 \n",
    "\n",
    "# calculate the Euclidean distance between two vectors\n",
    "def euclidean_distance(row1, row2):\n",
    "\tdistance = np.longdouble(0)\n",
    "\tr1=np.array(row1)\n",
    "\tr2=np.array(row2)\n",
    "\tdist = np.linalg.norm(r1-r2)\n",
    "\treturn round(dist,8)\n",
    "\n",
    "# Locate the best matching unit\n",
    "def get_best_matching_unit(codebooks, test_row):\n",
    "\tdistances = list()\n",
    "\tfor codebook in codebooks:\n",
    "\t\tdist = euclidean_distance(codebook, test_row)\n",
    "\t\tdistances.append((codebook, dist))\n",
    "\tdistances.sort(key=lambda tup: tup[1])\n",
    "\treturn distances[0][0]\n",
    "\n",
    "# Make a prediction with codebook vectors\n",
    "def predict(codebooks, test_row):\n",
    "\tbmu = get_best_matching_unit(codebooks, test_row)\n",
    "\treturn bmu[-1]\n",
    "\n",
    "# Create a random codebook vector\n",
    "def random_codebook(train):\n",
    "\tn_records = len(train)\n",
    "\tn_features = len(train[0])\n",
    "\tcodebook = [train[randrange(n_records)][i] for i in range(n_features)]\n",
    "\treturn codebook\n",
    "\n",
    "# Train a set of codebook vectors\n",
    "def train_codebooks(train, n_codebooks, lrate, epochs):\n",
    "\tcodebooks = [random_codebook(train) for i in range(n_codebooks)]\n",
    "\tfor epoch in range(epochs):\n",
    "\t\trate = lrate * (1.0-(epoch/float(epochs)))\n",
    "\t\tfor row in train:\n",
    "\t\t\tbmu = get_best_matching_unit(codebooks, row)\n",
    "\t\t\tfor i in range(len(row)-1):\n",
    "\t\t\t\terror = row[i] - bmu[i]\n",
    "\t\t\t\tif bmu[-1] == row[-1]:\n",
    "\t\t\t\t\tbmu[i] += rate * error\n",
    "\t\t\t\telse:\n",
    "\t\t\t\t\tbmu[i] -= rate * error\n",
    "\treturn codebooks\n",
    "\n",
    "# LVQ Algorithm\n",
    "def learning_vector_quantization(train, test, validation, n_codebooks, lrate, epochs):\n",
    "\tcodebooks = train_codebooks(train, n_codebooks, lrate, epochs)\n",
    "\tpredictions_test = list()\n",
    "\tpredictions_validation = list()\n",
    "\n",
    "\tfor row in test:\n",
    "\t\toutput = predict(codebooks, row)\n",
    "\t\tpredictions_test.append(output)\n",
    "\tfor row in validation:\n",
    "\t\toutput = predict(codebooks, row)\n",
    "\t\tpredictions_validation.append(output)\n",
    "  \n",
    "\treturn predictions_test, predictions_validation\n",
    "\n"
   ]
  },
  {
   "cell_type": "code",
   "execution_count": 55,
   "metadata": {},
   "outputs": [
    {
     "data": {
      "text/html": [
       "<div>\n",
       "<style scoped>\n",
       "    .dataframe tbody tr th:only-of-type {\n",
       "        vertical-align: middle;\n",
       "    }\n",
       "\n",
       "    .dataframe tbody tr th {\n",
       "        vertical-align: top;\n",
       "    }\n",
       "\n",
       "    .dataframe thead th {\n",
       "        text-align: right;\n",
       "    }\n",
       "</style>\n",
       "<table border=\"1\" class=\"dataframe\">\n",
       "  <thead>\n",
       "    <tr style=\"text-align: right;\">\n",
       "      <th></th>\n",
       "      <th>popularity</th>\n",
       "      <th>duration_ms</th>\n",
       "      <th>danceability</th>\n",
       "      <th>energy</th>\n",
       "      <th>loudness</th>\n",
       "      <th>speechiness</th>\n",
       "      <th>acousticness</th>\n",
       "      <th>instrumentalness</th>\n",
       "      <th>liveness</th>\n",
       "      <th>valence</th>\n",
       "      <th>tempo</th>\n",
       "      <th>track_genre</th>\n",
       "    </tr>\n",
       "  </thead>\n",
       "  <tbody>\n",
       "    <tr>\n",
       "      <th>86894</th>\n",
       "      <td>0.393939</td>\n",
       "      <td>0.037292</td>\n",
       "      <td>0.585117</td>\n",
       "      <td>0.682</td>\n",
       "      <td>0.818561</td>\n",
       "      <td>0.032850</td>\n",
       "      <td>0.100402</td>\n",
       "      <td>0.000000</td>\n",
       "      <td>0.1290</td>\n",
       "      <td>0.597586</td>\n",
       "      <td>0.592745</td>\n",
       "      <td>85</td>\n",
       "    </tr>\n",
       "    <tr>\n",
       "      <th>19536</th>\n",
       "      <td>0.000000</td>\n",
       "      <td>0.042588</td>\n",
       "      <td>0.514781</td>\n",
       "      <td>0.627</td>\n",
       "      <td>0.756159</td>\n",
       "      <td>0.028290</td>\n",
       "      <td>0.424699</td>\n",
       "      <td>0.000074</td>\n",
       "      <td>0.0755</td>\n",
       "      <td>0.297787</td>\n",
       "      <td>0.637367</td>\n",
       "      <td>19</td>\n",
       "    </tr>\n",
       "    <tr>\n",
       "      <th>47115</th>\n",
       "      <td>0.010101</td>\n",
       "      <td>0.047729</td>\n",
       "      <td>0.597350</td>\n",
       "      <td>0.906</td>\n",
       "      <td>0.748597</td>\n",
       "      <td>0.058446</td>\n",
       "      <td>0.000840</td>\n",
       "      <td>0.019000</td>\n",
       "      <td>0.0958</td>\n",
       "      <td>0.752515</td>\n",
       "      <td>0.548653</td>\n",
       "      <td>47</td>\n",
       "    </tr>\n",
       "    <tr>\n",
       "      <th>42313</th>\n",
       "      <td>0.141414</td>\n",
       "      <td>0.020240</td>\n",
       "      <td>0.376147</td>\n",
       "      <td>0.937</td>\n",
       "      <td>0.786700</td>\n",
       "      <td>0.288083</td>\n",
       "      <td>0.001406</td>\n",
       "      <td>0.000000</td>\n",
       "      <td>0.7740</td>\n",
       "      <td>0.161972</td>\n",
       "      <td>0.436558</td>\n",
       "      <td>42</td>\n",
       "    </tr>\n",
       "    <tr>\n",
       "      <th>92452</th>\n",
       "      <td>0.565657</td>\n",
       "      <td>0.041328</td>\n",
       "      <td>0.300714</td>\n",
       "      <td>0.374</td>\n",
       "      <td>0.685151</td>\n",
       "      <td>0.030363</td>\n",
       "      <td>0.839357</td>\n",
       "      <td>0.385000</td>\n",
       "      <td>0.1370</td>\n",
       "      <td>0.294769</td>\n",
       "      <td>0.652735</td>\n",
       "      <td>92</td>\n",
       "    </tr>\n",
       "    <tr>\n",
       "      <th>...</th>\n",
       "      <td>...</td>\n",
       "      <td>...</td>\n",
       "      <td>...</td>\n",
       "      <td>...</td>\n",
       "      <td>...</td>\n",
       "      <td>...</td>\n",
       "      <td>...</td>\n",
       "      <td>...</td>\n",
       "      <td>...</td>\n",
       "      <td>...</td>\n",
       "      <td>...</td>\n",
       "      <td>...</td>\n",
       "    </tr>\n",
       "    <tr>\n",
       "      <th>32902</th>\n",
       "      <td>0.303030</td>\n",
       "      <td>0.041336</td>\n",
       "      <td>0.587156</td>\n",
       "      <td>0.937</td>\n",
       "      <td>0.811138</td>\n",
       "      <td>0.048083</td>\n",
       "      <td>0.000245</td>\n",
       "      <td>0.871000</td>\n",
       "      <td>0.0903</td>\n",
       "      <td>0.336016</td>\n",
       "      <td>0.453624</td>\n",
       "      <td>32</td>\n",
       "    </tr>\n",
       "    <tr>\n",
       "      <th>11465</th>\n",
       "      <td>0.545455</td>\n",
       "      <td>0.045073</td>\n",
       "      <td>0.662589</td>\n",
       "      <td>0.195</td>\n",
       "      <td>0.663253</td>\n",
       "      <td>0.049948</td>\n",
       "      <td>0.697791</td>\n",
       "      <td>0.000013</td>\n",
       "      <td>0.0851</td>\n",
       "      <td>0.365191</td>\n",
       "      <td>0.552135</td>\n",
       "      <td>11</td>\n",
       "    </tr>\n",
       "    <tr>\n",
       "      <th>57339</th>\n",
       "      <td>0.787879</td>\n",
       "      <td>0.037743</td>\n",
       "      <td>0.570846</td>\n",
       "      <td>0.872</td>\n",
       "      <td>0.826694</td>\n",
       "      <td>0.145078</td>\n",
       "      <td>0.023996</td>\n",
       "      <td>0.000007</td>\n",
       "      <td>0.3710</td>\n",
       "      <td>0.686117</td>\n",
       "      <td>0.566250</td>\n",
       "      <td>56</td>\n",
       "    </tr>\n",
       "    <tr>\n",
       "      <th>17301</th>\n",
       "      <td>0.474747</td>\n",
       "      <td>0.040389</td>\n",
       "      <td>0.597350</td>\n",
       "      <td>0.419</td>\n",
       "      <td>0.706457</td>\n",
       "      <td>0.052124</td>\n",
       "      <td>0.297189</td>\n",
       "      <td>0.379000</td>\n",
       "      <td>0.0911</td>\n",
       "      <td>0.217304</td>\n",
       "      <td>0.552683</td>\n",
       "      <td>17</td>\n",
       "    </tr>\n",
       "    <tr>\n",
       "      <th>84692</th>\n",
       "      <td>0.292929</td>\n",
       "      <td>0.066520</td>\n",
       "      <td>0.763507</td>\n",
       "      <td>0.681</td>\n",
       "      <td>0.665892</td>\n",
       "      <td>0.045389</td>\n",
       "      <td>0.727912</td>\n",
       "      <td>0.000000</td>\n",
       "      <td>0.1260</td>\n",
       "      <td>0.968813</td>\n",
       "      <td>0.755729</td>\n",
       "      <td>84</td>\n",
       "    </tr>\n",
       "  </tbody>\n",
       "</table>\n",
       "<p>68399 rows × 12 columns</p>\n",
       "</div>"
      ],
      "text/plain": [
       "       popularity  duration_ms  danceability  energy  loudness  speechiness  \\\n",
       "86894    0.393939     0.037292      0.585117   0.682  0.818561     0.032850   \n",
       "19536    0.000000     0.042588      0.514781   0.627  0.756159     0.028290   \n",
       "47115    0.010101     0.047729      0.597350   0.906  0.748597     0.058446   \n",
       "42313    0.141414     0.020240      0.376147   0.937  0.786700     0.288083   \n",
       "92452    0.565657     0.041328      0.300714   0.374  0.685151     0.030363   \n",
       "...           ...          ...           ...     ...       ...          ...   \n",
       "32902    0.303030     0.041336      0.587156   0.937  0.811138     0.048083   \n",
       "11465    0.545455     0.045073      0.662589   0.195  0.663253     0.049948   \n",
       "57339    0.787879     0.037743      0.570846   0.872  0.826694     0.145078   \n",
       "17301    0.474747     0.040389      0.597350   0.419  0.706457     0.052124   \n",
       "84692    0.292929     0.066520      0.763507   0.681  0.665892     0.045389   \n",
       "\n",
       "       acousticness  instrumentalness  liveness   valence     tempo  \\\n",
       "86894      0.100402          0.000000    0.1290  0.597586  0.592745   \n",
       "19536      0.424699          0.000074    0.0755  0.297787  0.637367   \n",
       "47115      0.000840          0.019000    0.0958  0.752515  0.548653   \n",
       "42313      0.001406          0.000000    0.7740  0.161972  0.436558   \n",
       "92452      0.839357          0.385000    0.1370  0.294769  0.652735   \n",
       "...             ...               ...       ...       ...       ...   \n",
       "32902      0.000245          0.871000    0.0903  0.336016  0.453624   \n",
       "11465      0.697791          0.000013    0.0851  0.365191  0.552135   \n",
       "57339      0.023996          0.000007    0.3710  0.686117  0.566250   \n",
       "17301      0.297189          0.379000    0.0911  0.217304  0.552683   \n",
       "84692      0.727912          0.000000    0.1260  0.968813  0.755729   \n",
       "\n",
       "       track_genre  \n",
       "86894           85  \n",
       "19536           19  \n",
       "47115           47  \n",
       "42313           42  \n",
       "92452           92  \n",
       "...            ...  \n",
       "32902           32  \n",
       "11465           11  \n",
       "57339           56  \n",
       "17301           17  \n",
       "84692           84  \n",
       "\n",
       "[68399 rows x 12 columns]"
      ]
     },
     "execution_count": 55,
     "metadata": {},
     "output_type": "execute_result"
    }
   ],
   "source": [
    "df_train_2"
   ]
  },
  {
   "cell_type": "code",
   "execution_count": 67,
   "metadata": {},
   "outputs": [],
   "source": [
    "le = LabelEncoder()\n",
    "df_train_2 = df_train.copy()\n",
    "df_train_2['track_genre'] = le.fit_transform(df_train_2['track_genre'])\n",
    "#df_train_2['explicit'] = df_train_2['explicit'].astype(\"int\")\n",
    "\n",
    "df_validation_2 = df_validation.copy()\n",
    "df_validation_2['track_genre'] = le.transform(df_validation_2['track_genre'])\n",
    "#df_validation_2['explicit'] = df_validation_2['explicit'].astype(\"int\")\n",
    "\n",
    "df_test_2 = df_test.copy()\n",
    "df_test_2['track_genre'] = le.transform(df_test_2['track_genre'])\n",
    "#df_test_2['explicit'] = df_test_2['explicit'].astype(\"int\")\n",
    "\n",
    "n_folds = 3\n",
    "n_epochs = 20\n",
    "learn_rate=0.3\n",
    "n_codebooks=15\n",
    "\n",
    "dataset_train = df_train_2.values.tolist()\n",
    "dataset_validation = df_validation_2.values.tolist()"
   ]
  },
  {
   "cell_type": "code",
   "execution_count": null,
   "metadata": {},
   "outputs": [],
   "source": [
    "scores_cv, scores_vali, scores_cv_recall, scores_val_recall, scores_cv_precision, scores_val_precision, scores_cv_f1, scores_val_f1 = evaluate_algorithm(\n",
    "    dataset_train, dataset_validation, learning_vector_quantization, n_folds, n_codebooks, learn_rate, n_epochs)\n",
    "\n",
    "evaluation = {\n",
    "    'cv_accuracy': sum(scores_cv)/float(len(scores_cv)),\n",
    "    'validation_accuracy': sum(scores_vali)/float(len(scores_vali)),\n",
    "    'cv_recall': sum(scores_cv_recall)/float(len(scores_cv_recall)),\n",
    "    'validation_recall': sum(scores_val_recall)/float(len(scores_val_recall)),\n",
    "    'cv_precision': sum(scores_cv_precision)/float(len(scores_cv_precision)),\n",
    "    'validation_precision': sum(scores_val_precision)/float(len(scores_val_precision)),\n",
    "    'cv_f1': sum(scores_cv_f1)/float(len(scores_cv_f1)),\n",
    "    'validation_f1': sum(scores_val_f1)/float(len(scores_val_f1))\n",
    "}"
   ]
  },
  {
   "cell_type": "markdown",
   "metadata": {},
   "source": [
    "## LVQ 2"
   ]
  },
  {
   "cell_type": "code",
   "execution_count": 16,
   "metadata": {},
   "outputs": [],
   "source": [
    "class LVQ:\n",
    "    \"\"\"\n",
    "    Implementação do algoritmo Learning Vector Quantization (LVQ).\n",
    "\n",
    "    Parameters:\n",
    "        learning_rate: Taxa de aprendizado.\n",
    "        epocas: Número de épocas.\n",
    "    \"\"\"\n",
    "    def _init_(self, learning_rate=0.01, epocas=100):\n",
    "        self.learning_rate = learning_rate\n",
    "        self.epocas = epocas\n",
    "\n",
    "    def fit(self, X, y):\n",
    "        \"\"\"\n",
    "        Ajusta o modelo aos dados de treinamento.\n",
    "\n",
    "        Parameters:\n",
    "            X: Matriz de características de treinamento.\n",
    "            y: Vetor de rótulos de treinamento.\n",
    "        \"\"\"\n",
    "        self.X_train = X\n",
    "        self.y_train = y\n",
    "        self.model = NearestCentroid()\n",
    "        self.model.fit(X, y)\n",
    "\n",
    "    def _update_weights(self, x, y, learning_rate):\n",
    "        \"\"\"\n",
    "        Atualiza os pesos (centróides) dos vetores de aprendizado.\n",
    "\n",
    "        Parameters:\n",
    "            x: Vetor de características da amostra de treinamento.\n",
    "            y: Rótulo da amostra de treinamento.\n",
    "            learning_rate: Taxa de aprendizado.\n",
    "        \"\"\"\n",
    "        closest_class = self.model.predict([x])[0]\n",
    "        if closest_class == y:\n",
    "            self.model.centroids_[closest_class] += learning_rate * (x - self.model.centroids_[closest_class])\n",
    "        else:\n",
    "            self.model.centroids_[closest_class] -= learning_rate * (x - self.model.centroids_[closest_class])\n",
    "\n",
    "    def train(self):\n",
    "        \"\"\"Treina o modelo LVQ.\"\"\"\n",
    "        for _ in range(self.epocas):\n",
    "            for x, y in zip(self.X_train, self.y_train):\n",
    "                self._update_weights(x, y, self.learning_rate)\n",
    "\n",
    "    def predict(self, X):\n",
    "        \"\"\"\n",
    "        Prevê os rótulos das amostras de teste.\n",
    "\n",
    "        Parameters:\n",
    "            X: Matriz de características das amostras de teste.\n",
    "\n",
    "        Returns:\n",
    "            array: Vetor de rótulos previstos.\n",
    "        \"\"\"\n",
    "        return self.model.predict(X)\n",
    "\n",
    "le = LabelEncoder()\n",
    "df_train_2 = df_train.copy()\n",
    "df_train_2['track_genre'] = le.fit_transform(df_train_2['track_genre'])\n",
    "df_test_2 = df_test.copy()\n",
    "\n",
    "df_cara_train = df_train_2[numeric_columns].values  #caracteristicas\n",
    "df_clas_train = df_train_2['track_genre'].values #classe\n",
    "df_clas_test = df_test_2['track_genre'].values #classe\n",
    "\n",
    "lvq = LVQ()\n",
    "lvq._init_(0.01,30)\n",
    "lvq.fit(df_cara_train, df_clas_train)\n",
    "lvq.train()\n",
    "df_clas_pred = lvq.predict(df_clas_test)\n",
    "\n",
    "acuracia = accuracy_score(df_clas_test, df_clas_pred)\n",
    "\n",
    "evaluation={\n",
    "'accuracy': accuracy_score(df_clas_test, df_clas_pred),\n",
    "'precision': precision_score(df_clas_test, df_clas_pred, average='weighted'),\n",
    "'recall': recall_score(df_clas_test, df_clas_pred, average='weighted'),\n",
    "'f1': f1_score(df_clas_test, df_clas_pred, average='weighted')\n",
    "}\n",
    "\n",
    "print(acuracia,'\\n')\n",
    "print(evaluation)"
   ]
  },
  {
   "cell_type": "markdown",
   "metadata": {},
   "source": [
    "## <a id='toc8_3_'></a>[Decision Tree](#toc0_)"
   ]
  },
  {
   "cell_type": "code",
   "execution_count": null,
   "metadata": {},
   "outputs": [],
   "source": []
  },
  {
   "cell_type": "markdown",
   "metadata": {},
   "source": [
    "## <a id='toc8_4_'></a>[MLP](#toc0_)"
   ]
  },
  {
   "cell_type": "code",
   "execution_count": 12,
   "metadata": {},
   "outputs": [],
   "source": [
    "mlp = MLPClassifier()"
   ]
  },
  {
   "cell_type": "code",
   "execution_count": 18,
   "metadata": {},
   "outputs": [
    {
     "name": "stdout",
     "output_type": "stream",
     "text": [
      "Fitting 2 folds for each of 8 candidates, totalling 16 fits\n"
     ]
    },
    {
     "name": "stderr",
     "output_type": "stream",
     "text": [
      "c:\\ProgramData\\anaconda3\\Lib\\site-packages\\sklearn\\neural_network\\_multilayer_perceptron.py:686: ConvergenceWarning: Stochastic Optimizer: Maximum iterations (500) reached and the optimization hasn't converged yet.\n",
      "  warnings.warn(\n"
     ]
    },
    {
     "name": "stdout",
     "output_type": "stream",
     "text": [
      "[CV 1/2] END activation=relu, alpha=0.0001, hidden_layer_sizes=(50,), learning_rate=adaptive, max_iter=500, solver=adam;, score=0.245 total time= 3.5min\n"
     ]
    },
    {
     "name": "stderr",
     "output_type": "stream",
     "text": [
      "c:\\ProgramData\\anaconda3\\Lib\\site-packages\\sklearn\\neural_network\\_multilayer_perceptron.py:686: ConvergenceWarning: Stochastic Optimizer: Maximum iterations (500) reached and the optimization hasn't converged yet.\n",
      "  warnings.warn(\n"
     ]
    },
    {
     "name": "stdout",
     "output_type": "stream",
     "text": [
      "[CV 2/2] END activation=relu, alpha=0.0001, hidden_layer_sizes=(50,), learning_rate=adaptive, max_iter=500, solver=adam;, score=0.248 total time= 1.2min\n"
     ]
    },
    {
     "name": "stderr",
     "output_type": "stream",
     "text": [
      "c:\\ProgramData\\anaconda3\\Lib\\site-packages\\sklearn\\neural_network\\_multilayer_perceptron.py:686: ConvergenceWarning: Stochastic Optimizer: Maximum iterations (500) reached and the optimization hasn't converged yet.\n",
      "  warnings.warn(\n"
     ]
    },
    {
     "name": "stdout",
     "output_type": "stream",
     "text": [
      "[CV 1/2] END activation=relu, alpha=0.0001, hidden_layer_sizes=(100,), learning_rate=adaptive, max_iter=500, solver=adam;, score=0.255 total time= 3.0min\n"
     ]
    },
    {
     "name": "stderr",
     "output_type": "stream",
     "text": [
      "c:\\ProgramData\\anaconda3\\Lib\\site-packages\\sklearn\\neural_network\\_multilayer_perceptron.py:686: ConvergenceWarning: Stochastic Optimizer: Maximum iterations (500) reached and the optimization hasn't converged yet.\n",
      "  warnings.warn(\n"
     ]
    },
    {
     "name": "stdout",
     "output_type": "stream",
     "text": [
      "[CV 2/2] END activation=relu, alpha=0.0001, hidden_layer_sizes=(100,), learning_rate=adaptive, max_iter=500, solver=adam;, score=0.262 total time= 6.0min\n"
     ]
    },
    {
     "name": "stderr",
     "output_type": "stream",
     "text": [
      "c:\\ProgramData\\anaconda3\\Lib\\site-packages\\sklearn\\neural_network\\_multilayer_perceptron.py:686: ConvergenceWarning: Stochastic Optimizer: Maximum iterations (500) reached and the optimization hasn't converged yet.\n",
      "  warnings.warn(\n"
     ]
    },
    {
     "name": "stdout",
     "output_type": "stream",
     "text": [
      "[CV 1/2] END activation=relu, alpha=0.001, hidden_layer_sizes=(50,), learning_rate=adaptive, max_iter=500, solver=adam;, score=0.245 total time= 2.3min\n"
     ]
    },
    {
     "name": "stderr",
     "output_type": "stream",
     "text": [
      "c:\\ProgramData\\anaconda3\\Lib\\site-packages\\sklearn\\neural_network\\_multilayer_perceptron.py:686: ConvergenceWarning: Stochastic Optimizer: Maximum iterations (500) reached and the optimization hasn't converged yet.\n",
      "  warnings.warn(\n"
     ]
    },
    {
     "name": "stdout",
     "output_type": "stream",
     "text": [
      "[CV 2/2] END activation=relu, alpha=0.001, hidden_layer_sizes=(50,), learning_rate=adaptive, max_iter=500, solver=adam;, score=0.250 total time= 1.7min\n"
     ]
    },
    {
     "name": "stderr",
     "output_type": "stream",
     "text": [
      "c:\\ProgramData\\anaconda3\\Lib\\site-packages\\sklearn\\neural_network\\_multilayer_perceptron.py:686: ConvergenceWarning: Stochastic Optimizer: Maximum iterations (500) reached and the optimization hasn't converged yet.\n",
      "  warnings.warn(\n"
     ]
    },
    {
     "name": "stdout",
     "output_type": "stream",
     "text": [
      "[CV 1/2] END activation=relu, alpha=0.001, hidden_layer_sizes=(100,), learning_rate=adaptive, max_iter=500, solver=adam;, score=0.258 total time= 1.6min\n"
     ]
    },
    {
     "name": "stderr",
     "output_type": "stream",
     "text": [
      "c:\\ProgramData\\anaconda3\\Lib\\site-packages\\sklearn\\neural_network\\_multilayer_perceptron.py:686: ConvergenceWarning: Stochastic Optimizer: Maximum iterations (500) reached and the optimization hasn't converged yet.\n",
      "  warnings.warn(\n"
     ]
    },
    {
     "name": "stdout",
     "output_type": "stream",
     "text": [
      "[CV 2/2] END activation=relu, alpha=0.001, hidden_layer_sizes=(100,), learning_rate=adaptive, max_iter=500, solver=adam;, score=0.262 total time= 1.3min\n"
     ]
    },
    {
     "name": "stderr",
     "output_type": "stream",
     "text": [
      "c:\\ProgramData\\anaconda3\\Lib\\site-packages\\sklearn\\neural_network\\_multilayer_perceptron.py:686: ConvergenceWarning: Stochastic Optimizer: Maximum iterations (500) reached and the optimization hasn't converged yet.\n",
      "  warnings.warn(\n"
     ]
    },
    {
     "name": "stdout",
     "output_type": "stream",
     "text": [
      "[CV 1/2] END activation=tanh, alpha=0.0001, hidden_layer_sizes=(50,), learning_rate=adaptive, max_iter=500, solver=adam;, score=0.253 total time=  32.4s\n"
     ]
    },
    {
     "name": "stderr",
     "output_type": "stream",
     "text": [
      "c:\\ProgramData\\anaconda3\\Lib\\site-packages\\sklearn\\neural_network\\_multilayer_perceptron.py:686: ConvergenceWarning: Stochastic Optimizer: Maximum iterations (500) reached and the optimization hasn't converged yet.\n",
      "  warnings.warn(\n"
     ]
    },
    {
     "name": "stdout",
     "output_type": "stream",
     "text": [
      "[CV 2/2] END activation=tanh, alpha=0.0001, hidden_layer_sizes=(50,), learning_rate=adaptive, max_iter=500, solver=adam;, score=0.257 total time=  31.9s\n"
     ]
    },
    {
     "name": "stderr",
     "output_type": "stream",
     "text": [
      "c:\\ProgramData\\anaconda3\\Lib\\site-packages\\sklearn\\neural_network\\_multilayer_perceptron.py:686: ConvergenceWarning: Stochastic Optimizer: Maximum iterations (500) reached and the optimization hasn't converged yet.\n",
      "  warnings.warn(\n"
     ]
    },
    {
     "name": "stdout",
     "output_type": "stream",
     "text": [
      "[CV 1/2] END activation=tanh, alpha=0.0001, hidden_layer_sizes=(100,), learning_rate=adaptive, max_iter=500, solver=adam;, score=0.258 total time=  38.1s\n"
     ]
    },
    {
     "name": "stderr",
     "output_type": "stream",
     "text": [
      "c:\\ProgramData\\anaconda3\\Lib\\site-packages\\sklearn\\neural_network\\_multilayer_perceptron.py:686: ConvergenceWarning: Stochastic Optimizer: Maximum iterations (500) reached and the optimization hasn't converged yet.\n",
      "  warnings.warn(\n"
     ]
    },
    {
     "name": "stdout",
     "output_type": "stream",
     "text": [
      "[CV 2/2] END activation=tanh, alpha=0.0001, hidden_layer_sizes=(100,), learning_rate=adaptive, max_iter=500, solver=adam;, score=0.264 total time=  37.7s\n"
     ]
    },
    {
     "name": "stderr",
     "output_type": "stream",
     "text": [
      "c:\\ProgramData\\anaconda3\\Lib\\site-packages\\sklearn\\neural_network\\_multilayer_perceptron.py:686: ConvergenceWarning: Stochastic Optimizer: Maximum iterations (500) reached and the optimization hasn't converged yet.\n",
      "  warnings.warn(\n"
     ]
    },
    {
     "name": "stdout",
     "output_type": "stream",
     "text": [
      "[CV 1/2] END activation=tanh, alpha=0.001, hidden_layer_sizes=(50,), learning_rate=adaptive, max_iter=500, solver=adam;, score=0.253 total time=  31.6s\n"
     ]
    },
    {
     "name": "stderr",
     "output_type": "stream",
     "text": [
      "c:\\ProgramData\\anaconda3\\Lib\\site-packages\\sklearn\\neural_network\\_multilayer_perceptron.py:686: ConvergenceWarning: Stochastic Optimizer: Maximum iterations (500) reached and the optimization hasn't converged yet.\n",
      "  warnings.warn(\n"
     ]
    },
    {
     "name": "stdout",
     "output_type": "stream",
     "text": [
      "[CV 2/2] END activation=tanh, alpha=0.001, hidden_layer_sizes=(50,), learning_rate=adaptive, max_iter=500, solver=adam;, score=0.261 total time=  31.8s\n"
     ]
    },
    {
     "name": "stderr",
     "output_type": "stream",
     "text": [
      "c:\\ProgramData\\anaconda3\\Lib\\site-packages\\sklearn\\neural_network\\_multilayer_perceptron.py:686: ConvergenceWarning: Stochastic Optimizer: Maximum iterations (500) reached and the optimization hasn't converged yet.\n",
      "  warnings.warn(\n"
     ]
    },
    {
     "name": "stdout",
     "output_type": "stream",
     "text": [
      "[CV 1/2] END activation=tanh, alpha=0.001, hidden_layer_sizes=(100,), learning_rate=adaptive, max_iter=500, solver=adam;, score=0.258 total time=  37.9s\n"
     ]
    },
    {
     "name": "stderr",
     "output_type": "stream",
     "text": [
      "c:\\ProgramData\\anaconda3\\Lib\\site-packages\\sklearn\\neural_network\\_multilayer_perceptron.py:686: ConvergenceWarning: Stochastic Optimizer: Maximum iterations (500) reached and the optimization hasn't converged yet.\n",
      "  warnings.warn(\n"
     ]
    },
    {
     "name": "stdout",
     "output_type": "stream",
     "text": [
      "[CV 2/2] END activation=tanh, alpha=0.001, hidden_layer_sizes=(100,), learning_rate=adaptive, max_iter=500, solver=adam;, score=0.263 total time=  38.1s\n"
     ]
    },
    {
     "name": "stderr",
     "output_type": "stream",
     "text": [
      "c:\\ProgramData\\anaconda3\\Lib\\site-packages\\sklearn\\neural_network\\_multilayer_perceptron.py:686: ConvergenceWarning: Stochastic Optimizer: Maximum iterations (500) reached and the optimization hasn't converged yet.\n",
      "  warnings.warn(\n"
     ]
    },
    {
     "data": {
      "text/html": [
       "<style>#sk-container-id-2 {color: black;background-color: white;}#sk-container-id-2 pre{padding: 0;}#sk-container-id-2 div.sk-toggleable {background-color: white;}#sk-container-id-2 label.sk-toggleable__label {cursor: pointer;display: block;width: 100%;margin-bottom: 0;padding: 0.3em;box-sizing: border-box;text-align: center;}#sk-container-id-2 label.sk-toggleable__label-arrow:before {content: \"▸\";float: left;margin-right: 0.25em;color: #696969;}#sk-container-id-2 label.sk-toggleable__label-arrow:hover:before {color: black;}#sk-container-id-2 div.sk-estimator:hover label.sk-toggleable__label-arrow:before {color: black;}#sk-container-id-2 div.sk-toggleable__content {max-height: 0;max-width: 0;overflow: hidden;text-align: left;background-color: #f0f8ff;}#sk-container-id-2 div.sk-toggleable__content pre {margin: 0.2em;color: black;border-radius: 0.25em;background-color: #f0f8ff;}#sk-container-id-2 input.sk-toggleable__control:checked~div.sk-toggleable__content {max-height: 200px;max-width: 100%;overflow: auto;}#sk-container-id-2 input.sk-toggleable__control:checked~label.sk-toggleable__label-arrow:before {content: \"▾\";}#sk-container-id-2 div.sk-estimator input.sk-toggleable__control:checked~label.sk-toggleable__label {background-color: #d4ebff;}#sk-container-id-2 div.sk-label input.sk-toggleable__control:checked~label.sk-toggleable__label {background-color: #d4ebff;}#sk-container-id-2 input.sk-hidden--visually {border: 0;clip: rect(1px 1px 1px 1px);clip: rect(1px, 1px, 1px, 1px);height: 1px;margin: -1px;overflow: hidden;padding: 0;position: absolute;width: 1px;}#sk-container-id-2 div.sk-estimator {font-family: monospace;background-color: #f0f8ff;border: 1px dotted black;border-radius: 0.25em;box-sizing: border-box;margin-bottom: 0.5em;}#sk-container-id-2 div.sk-estimator:hover {background-color: #d4ebff;}#sk-container-id-2 div.sk-parallel-item::after {content: \"\";width: 100%;border-bottom: 1px solid gray;flex-grow: 1;}#sk-container-id-2 div.sk-label:hover label.sk-toggleable__label {background-color: #d4ebff;}#sk-container-id-2 div.sk-serial::before {content: \"\";position: absolute;border-left: 1px solid gray;box-sizing: border-box;top: 0;bottom: 0;left: 50%;z-index: 0;}#sk-container-id-2 div.sk-serial {display: flex;flex-direction: column;align-items: center;background-color: white;padding-right: 0.2em;padding-left: 0.2em;position: relative;}#sk-container-id-2 div.sk-item {position: relative;z-index: 1;}#sk-container-id-2 div.sk-parallel {display: flex;align-items: stretch;justify-content: center;background-color: white;position: relative;}#sk-container-id-2 div.sk-item::before, #sk-container-id-2 div.sk-parallel-item::before {content: \"\";position: absolute;border-left: 1px solid gray;box-sizing: border-box;top: 0;bottom: 0;left: 50%;z-index: -1;}#sk-container-id-2 div.sk-parallel-item {display: flex;flex-direction: column;z-index: 1;position: relative;background-color: white;}#sk-container-id-2 div.sk-parallel-item:first-child::after {align-self: flex-end;width: 50%;}#sk-container-id-2 div.sk-parallel-item:last-child::after {align-self: flex-start;width: 50%;}#sk-container-id-2 div.sk-parallel-item:only-child::after {width: 0;}#sk-container-id-2 div.sk-dashed-wrapped {border: 1px dashed gray;margin: 0 0.4em 0.5em 0.4em;box-sizing: border-box;padding-bottom: 0.4em;background-color: white;}#sk-container-id-2 div.sk-label label {font-family: monospace;font-weight: bold;display: inline-block;line-height: 1.2em;}#sk-container-id-2 div.sk-label-container {text-align: center;}#sk-container-id-2 div.sk-container {/* jupyter's `normalize.less` sets `[hidden] { display: none; }` but bootstrap.min.css set `[hidden] { display: none !important; }` so we also need the `!important` here to be able to override the default hidden behavior on the sphinx rendered scikit-learn.org. See: https://github.com/scikit-learn/scikit-learn/issues/21755 */display: inline-block !important;position: relative;}#sk-container-id-2 div.sk-text-repr-fallback {display: none;}</style><div id=\"sk-container-id-2\" class=\"sk-top-container\"><div class=\"sk-text-repr-fallback\"><pre>GridSearchCV(cv=2, estimator=MLPClassifier(),\n",
       "             param_grid={&#x27;activation&#x27;: [&#x27;relu&#x27;, &#x27;tanh&#x27;],\n",
       "                         &#x27;alpha&#x27;: [0.0001, 0.001],\n",
       "                         &#x27;hidden_layer_sizes&#x27;: [(50,), (100,)],\n",
       "                         &#x27;learning_rate&#x27;: [&#x27;adaptive&#x27;], &#x27;max_iter&#x27;: [500],\n",
       "                         &#x27;solver&#x27;: [&#x27;adam&#x27;]},\n",
       "             scoring=&#x27;accuracy&#x27;, verbose=3)</pre><b>In a Jupyter environment, please rerun this cell to show the HTML representation or trust the notebook. <br />On GitHub, the HTML representation is unable to render, please try loading this page with nbviewer.org.</b></div><div class=\"sk-container\" hidden><div class=\"sk-item sk-dashed-wrapped\"><div class=\"sk-label-container\"><div class=\"sk-label sk-toggleable\"><input class=\"sk-toggleable__control sk-hidden--visually\" id=\"sk-estimator-id-4\" type=\"checkbox\" ><label for=\"sk-estimator-id-4\" class=\"sk-toggleable__label sk-toggleable__label-arrow\">GridSearchCV</label><div class=\"sk-toggleable__content\"><pre>GridSearchCV(cv=2, estimator=MLPClassifier(),\n",
       "             param_grid={&#x27;activation&#x27;: [&#x27;relu&#x27;, &#x27;tanh&#x27;],\n",
       "                         &#x27;alpha&#x27;: [0.0001, 0.001],\n",
       "                         &#x27;hidden_layer_sizes&#x27;: [(50,), (100,)],\n",
       "                         &#x27;learning_rate&#x27;: [&#x27;adaptive&#x27;], &#x27;max_iter&#x27;: [500],\n",
       "                         &#x27;solver&#x27;: [&#x27;adam&#x27;]},\n",
       "             scoring=&#x27;accuracy&#x27;, verbose=3)</pre></div></div></div><div class=\"sk-parallel\"><div class=\"sk-parallel-item\"><div class=\"sk-item\"><div class=\"sk-label-container\"><div class=\"sk-label sk-toggleable\"><input class=\"sk-toggleable__control sk-hidden--visually\" id=\"sk-estimator-id-5\" type=\"checkbox\" ><label for=\"sk-estimator-id-5\" class=\"sk-toggleable__label sk-toggleable__label-arrow\">estimator: MLPClassifier</label><div class=\"sk-toggleable__content\"><pre>MLPClassifier()</pre></div></div></div><div class=\"sk-serial\"><div class=\"sk-item\"><div class=\"sk-estimator sk-toggleable\"><input class=\"sk-toggleable__control sk-hidden--visually\" id=\"sk-estimator-id-6\" type=\"checkbox\" ><label for=\"sk-estimator-id-6\" class=\"sk-toggleable__label sk-toggleable__label-arrow\">MLPClassifier</label><div class=\"sk-toggleable__content\"><pre>MLPClassifier()</pre></div></div></div></div></div></div></div></div></div></div>"
      ],
      "text/plain": [
       "GridSearchCV(cv=2, estimator=MLPClassifier(),\n",
       "             param_grid={'activation': ['relu', 'tanh'],\n",
       "                         'alpha': [0.0001, 0.001],\n",
       "                         'hidden_layer_sizes': [(50,), (100,)],\n",
       "                         'learning_rate': ['adaptive'], 'max_iter': [500],\n",
       "                         'solver': ['adam']},\n",
       "             scoring='accuracy', verbose=3)"
      ]
     },
     "execution_count": 18,
     "metadata": {},
     "output_type": "execute_result"
    }
   ],
   "source": [
    "param_grid = {\n",
    "    'hidden_layer_sizes': [(100,)],\n",
    "    'activation': ['relu', 'tanh'],\n",
    "    'solver': ['adam'], #, 'sgd'],\n",
    "    'alpha': [0.0001,0.001],# 0.01],\n",
    "    'learning_rate': ['adaptive'],\n",
    "    'max_iter': [700]#300,500,#testar com mais iterações\n",
    "}\n",
    "\n",
    "grid_search = GridSearchCV(mlp, param_grid, cv=5, scoring='accuracy', verbose=3)\n",
    "grid_search.fit(df_cara_train, df_clas_train)"
   ]
  },
  {
   "cell_type": "code",
   "execution_count": 19,
   "metadata": {},
   "outputs": [
    {
     "data": {
      "text/plain": [
       "array([0.24640351, 0.25877193, 0.24745614, 0.25964912, 0.25467836,\n",
       "       0.26146199, 0.25660819, 0.26046784])"
      ]
     },
     "execution_count": 19,
     "metadata": {},
     "output_type": "execute_result"
    }
   ],
   "source": [
    "grid_search.cv_results_['mean_test_score']"
   ]
  },
  {
   "cell_type": "code",
   "execution_count": 20,
   "metadata": {},
   "outputs": [
    {
     "name": "stdout",
     "output_type": "stream",
     "text": [
      "Melhor parametro: {'activation': 'tanh', 'alpha': 0.0001, 'hidden_layer_sizes': (100,), 'learning_rate': 'adaptive', 'max_iter': 500, 'solver': 'adam'}\n",
      "Melhor resultado: 0.26146198830409356\n"
     ]
    }
   ],
   "source": [
    "print(f'Melhor parametro: {grid_search.best_params_}')\n",
    "print(f'Melhor resultado: {grid_search.best_score_}')"
   ]
  },
  {
   "cell_type": "code",
   "execution_count": 21,
   "metadata": {},
   "outputs": [
    {
     "name": "stdout",
     "output_type": "stream",
     "text": [
      "Dados de Teste\n",
      "{'accuracy': 0.2833333333333333, 'precision': 0.273592647284825, 'recall': 0.2833333333333333, 'f1': 0.26570096883360567}\n"
     ]
    }
   ],
   "source": [
    "# Predizendo os rótulos dos dados de teste\n",
    "df_clas_pred = grid_search.best_estimator_.predict(df_cara_test)\n",
    "\n",
    "evaluation={\n",
    "'accuracy': accuracy_score(df_clas_test, df_clas_pred),\n",
    "'precision': precision_score(df_clas_test, df_clas_pred, average='weighted'),\n",
    "'recall': recall_score(df_clas_test, df_clas_pred, average='weighted'),\n",
    "'f1': f1_score(df_clas_test, df_clas_pred, average='weighted')\n",
    "}\n",
    "\n",
    "print(f'Dados de Teste')\n",
    "print(evaluation)"
   ]
  },
  {
   "cell_type": "markdown",
   "metadata": {},
   "source": [
    "## <a id='toc8_5_'></a>[SVM](#toc0_)"
   ]
  },
  {
   "cell_type": "code",
   "execution_count": 16,
   "metadata": {},
   "outputs": [],
   "source": [
    "class_svm = SVC().fit(df_cara_train,df_clas_train)"
   ]
  },
  {
   "cell_type": "markdown",
   "metadata": {},
   "source": [
    "###CUIDADO AO RODAR A CÉLULA ABAIXO"
   ]
  },
  {
   "cell_type": "code",
   "execution_count": 17,
   "metadata": {},
   "outputs": [],
   "source": [
    "lista_kernels=['linear','rbf','poly']\n",
    "lista_c =[1,2,3,4,5,7,10,100]\n",
    "lista_gamma = [1,2,3,4,5,7,10,100]\n",
    "\n",
    "# Criando um dicionário com os hiperparâmetros e valores a serem testados\n",
    "param_grid = {'kernel': lista_kernels,'C': lista_c, 'gamma':lista_gamma}"
   ]
  },
  {
   "cell_type": "code",
   "execution_count": 18,
   "metadata": {},
   "outputs": [],
   "source": [
    "grid = GridSearchCV(class_svm, param_grid, cv=5, scoring='accuracy')\n",
    "grid.fit(df_cara_train,df_clas_train)"
   ]
  },
  {
   "cell_type": "code",
   "execution_count": 36,
   "metadata": {},
   "outputs": [
    {
     "data": {
      "text/plain": [
       "array([0.23959782, 0.24529967, 0.24655703, 0.24743428, 0.24910085,\n",
       "       0.2461184 , 0.17243205, 0.24614763, 0.2496857 , 0.25003663,\n",
       "       0.25120619, 0.24933483, 0.24588455, 0.17181803, 0.24822371,\n",
       "       0.25141093, 0.25392558, 0.25322383, 0.24965652, 0.24518281,\n",
       "       0.1715256 , 0.25117696, 0.25418874, 0.25462738, 0.25339931,\n",
       "       0.25018284, 0.24287283, 0.17140864, 0.25448113, 0.2567034 ,\n",
       "       0.25576777, 0.25237586, 0.24731738, 0.23977326, 0.17120395,\n",
       "       0.2579023 , 0.25857481, 0.25576782, 0.25217119, 0.24605999,\n",
       "       0.23573809, 0.17088231, 0.26281478, 0.25585556, 0.24801923,\n",
       "       0.24097225, 0.23056255, 0.22348627, 0.17041447])"
      ]
     },
     "execution_count": 36,
     "metadata": {},
     "output_type": "execute_result"
    }
   ],
   "source": [
    "grid.cv_results_['mean_test_score']"
   ]
  },
  {
   "cell_type": "code",
   "execution_count": 37,
   "metadata": {},
   "outputs": [
    {
     "name": "stdout",
     "output_type": "stream",
     "text": [
      "Melhor parametro: {'C': 100, 'gamma': 2}\n",
      "Melhor resultado: 0.26281478175137607\n"
     ]
    }
   ],
   "source": [
    "print(f'Melhor parametro: {grid.best_params_}')\n",
    "print(f'Melhor resultado: {grid.best_score_}')\n",
    "#lista_kernels=['linear','rbf']\n",
    "#lista_c =[2,3,4,5,7,10,100]\n",
    "#lista_gamma = [2,3,4,5,7,10,100]\n",
    "#Melhor parametro: {'C': 100, 'gamma': 2, 'kernel': 'rbf'}\n",
    "#Melhor resultado: 0.26281478175137607"
   ]
  },
  {
   "cell_type": "code",
   "execution_count": 39,
   "metadata": {},
   "outputs": [
    {
     "name": "stdout",
     "output_type": "stream",
     "text": [
      "Dados de Teste\n",
      "{'accuracy': 0.26570175438596494, 'precision': 0.2596195645386902, 'recall': 0.26570175438596494, 'f1': 0.2578082413357941}\n"
     ]
    }
   ],
   "source": [
    "# Predizendo os rótulos dos dados de teste\n",
    "df_clas_pred = grid.best_estimator_.predict(df_cara_test)\n",
    "\n",
    "evaluation={\n",
    "'accuracy': accuracy_score(df_clas_test, df_clas_pred),\n",
    "'precision': precision_score(df_clas_test, df_clas_pred, average='weighted'),\n",
    "'recall': recall_score(df_clas_test, df_clas_pred, average='weighted'),\n",
    "'f1': f1_score(df_clas_test, df_clas_pred, average='weighted')\n",
    "}\n",
    "\n",
    "print(f'Dados de Teste')\n",
    "print(evaluation)"
   ]
  },
  {
   "cell_type": "markdown",
   "metadata": {},
   "source": [
    "## <a id='toc8_6_'></a>[Stacking](#toc0_)"
   ]
  },
  {
   "cell_type": "code",
   "execution_count": null,
   "metadata": {},
   "outputs": [],
   "source": []
  },
  {
   "cell_type": "markdown",
   "metadata": {},
   "source": [
    "## <a id='toc8_7_'></a>[Random Forest](#toc0_)"
   ]
  },
  {
   "cell_type": "code",
   "execution_count": null,
   "metadata": {},
   "outputs": [],
   "source": []
  }
 ],
 "metadata": {
  "kernelspec": {
   "display_name": "llm",
   "language": "python",
   "name": "python3"
  },
  "language_info": {
   "codemirror_mode": {
    "name": "ipython",
    "version": 3
   },
   "file_extension": ".py",
   "mimetype": "text/x-python",
   "name": "python",
   "nbconvert_exporter": "python",
   "pygments_lexer": "ipython3",
   "version": "3.11.8"
  }
 },
 "nbformat": 4,
 "nbformat_minor": 2
}
