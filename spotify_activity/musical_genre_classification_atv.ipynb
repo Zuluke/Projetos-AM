{
 "cells": [
  {
   "cell_type": "markdown",
   "metadata": {},
   "source": [
    "**Table of contents**<a id='toc0_'></a>    \n",
    "- [Imports](#toc1_)    \n",
    "- [Read Data](#toc2_)    \n",
    "- [Data Selection](#toc3_)    \n",
    "  - [Selecting 50% of the data](#toc3_3_)\n",
    "  - [Drop rows with missing values](#toc3_2_)    \n",
    "- [Removing Categorical Columns](#toc4_)    \n",
    "- [Split Train and Test Data](#toc5_)    \n",
    "- [Data Cleaning](#toc6_)    \n",
    "  - [Impute missing numeric data](#toc6_1_)    \n",
    "- [Data Normalization](#toc7_)    \n",
    "- [Model training](#toc8_)    \n",
    "  - [KNN](#toc8_1_)    \n",
    "    - [Best model](#toc8_1_1_)    \n",
    "  - [LVQ](#toc8_2_)\n",
    "  - [Decision Tree](#toc8_3_)  \n",
    "  - [MLP](#toc8_4_)\n",
    "  - [SVM](#toc8_5_)  \n",
    "  - [Stacking](#toc8_6_)  \n",
    "  - [Random Forest](#toc8_7_)  \n",
    "\n",
    "<!-- vscode-jupyter-toc-config\n",
    "\tnumbering=false\n",
    "\tanchor=true\n",
    "\tflat=false\n",
    "\tminLevel=1\n",
    "\tmaxLevel=6\n",
    "\t/vscode-jupyter-toc-config -->\n",
    "<!-- THIS CELL WILL BE REPLACED ON TOC UPDATE. DO NOT WRITE YOUR TEXT IN THIS CELL -->"
   ]
  },
  {
   "cell_type": "markdown",
   "metadata": {},
   "source": [
    "----"
   ]
  },
  {
   "cell_type": "markdown",
   "metadata": {},
   "source": [
    "# <a id='toc1_'></a>[Imports](#toc0_)"
   ]
  },
  {
   "cell_type": "code",
   "execution_count": 1,
   "metadata": {},
   "outputs": [],
   "source": [
    "import numpy as np\n",
    "from matplotlib import pyplot as plt\n",
    "from math import sqrt\n",
    "from tqdm import tqdm\n",
    "\n",
    "import pandas as pd\n",
    "pd.options.display.max_colwidth = 1000\n",
    "pd.options.display.max_columns = 1000\n",
    "pd.options.display.max_rows = 200\n",
    "\n",
    "import sklearn\n",
    "from sklearn.impute import SimpleImputer\n",
    "from sklearn.model_selection import cross_validate,train_test_split, GridSearchCV\n",
    "from sklearn.preprocessing import LabelEncoder,MinMaxScaler\n",
    "from sklearn.neighbors import KNeighborsClassifier\n",
    "from sklearn.neural_network import MLPClassifier\n",
    "from sklearn.tree import DecisionTreeClassifier\n",
    "from sklearn.ensemble import StackingClassifier, RandomForestClassifier\n",
    "from sklearn.svm import SVC\n",
    "\n",
    "from sklearn.metrics import f1_score, recall_score, precision_score, accuracy_score, classification_report\n",
    "import random\n",
    "from random import seed,randrange\n",
    "import requests\n",
    "import io"
   ]
  },
  {
   "cell_type": "markdown",
   "metadata": {},
   "source": [
    "# <a id='toc2_'></a>[Read Data](#toc0_)"
   ]
  },
  {
   "cell_type": "code",
   "execution_count": 2,
   "metadata": {},
   "outputs": [],
   "source": [
    "# Downloading the csv file from your GitHub account\n",
    "\n",
    "url = \"https://raw.githubusercontent.com/Zuluke/Projetos-AM/main/spotify_activity/dataset.csv\" # Make sure the url is the raw version of the file on GitHub\n",
    "download = requests.get(url).content\n",
    "\n",
    "# Reading the downloaded content and turning it into a pandas dataframe\n",
    "\n",
    "dataset = pd.read_csv(io.StringIO(download.decode('utf-8')))"
   ]
  },
  {
   "cell_type": "markdown",
   "metadata": {},
   "source": [
    "## <a id='toc3_'></a>[Visualize Data](#toc0_)"
   ]
  },
  {
   "cell_type": "code",
   "execution_count": 6,
   "metadata": {},
   "outputs": [
    {
     "name": "stdout",
     "output_type": "stream",
     "text": [
      "(114000, 21)\n",
      "\n",
      "\n",
      "<class 'pandas.core.frame.DataFrame'>\n",
      "RangeIndex: 114000 entries, 0 to 113999\n",
      "Data columns (total 21 columns):\n",
      " #   Column            Non-Null Count   Dtype  \n",
      "---  ------            --------------   -----  \n",
      " 0   Unnamed: 0        114000 non-null  int64  \n",
      " 1   track_id          114000 non-null  object \n",
      " 2   artists           113999 non-null  object \n",
      " 3   album_name        113999 non-null  object \n",
      " 4   track_name        113999 non-null  object \n",
      " 5   popularity        114000 non-null  int64  \n",
      " 6   duration_ms       114000 non-null  int64  \n",
      " 7   explicit          114000 non-null  bool   \n",
      " 8   danceability      114000 non-null  float64\n",
      " 9   energy            114000 non-null  float64\n",
      " 10  key               114000 non-null  int64  \n",
      " 11  loudness          114000 non-null  float64\n",
      " 12  mode              114000 non-null  int64  \n",
      " 13  speechiness       114000 non-null  float64\n",
      " 14  acousticness      114000 non-null  float64\n",
      " 15  instrumentalness  114000 non-null  float64\n",
      " 16  liveness          114000 non-null  float64\n",
      " 17  valence           114000 non-null  float64\n",
      " 18  tempo             114000 non-null  float64\n",
      " 19  time_signature    114000 non-null  int64  \n",
      " 20  track_genre       114000 non-null  object \n",
      "dtypes: bool(1), float64(9), int64(6), object(5)\n",
      "memory usage: 17.5+ MB\n",
      "\n",
      "\n"
     ]
    },
    {
     "data": {
      "text/html": [
       "<div>\n",
       "<style scoped>\n",
       "    .dataframe tbody tr th:only-of-type {\n",
       "        vertical-align: middle;\n",
       "    }\n",
       "\n",
       "    .dataframe tbody tr th {\n",
       "        vertical-align: top;\n",
       "    }\n",
       "\n",
       "    .dataframe thead th {\n",
       "        text-align: right;\n",
       "    }\n",
       "</style>\n",
       "<table border=\"1\" class=\"dataframe\">\n",
       "  <thead>\n",
       "    <tr style=\"text-align: right;\">\n",
       "      <th></th>\n",
       "      <th>Unnamed: 0</th>\n",
       "      <th>track_id</th>\n",
       "      <th>artists</th>\n",
       "      <th>album_name</th>\n",
       "      <th>track_name</th>\n",
       "      <th>popularity</th>\n",
       "      <th>duration_ms</th>\n",
       "      <th>explicit</th>\n",
       "      <th>danceability</th>\n",
       "      <th>energy</th>\n",
       "      <th>key</th>\n",
       "      <th>loudness</th>\n",
       "      <th>mode</th>\n",
       "      <th>speechiness</th>\n",
       "      <th>acousticness</th>\n",
       "      <th>instrumentalness</th>\n",
       "      <th>liveness</th>\n",
       "      <th>valence</th>\n",
       "      <th>tempo</th>\n",
       "      <th>time_signature</th>\n",
       "      <th>track_genre</th>\n",
       "    </tr>\n",
       "  </thead>\n",
       "  <tbody>\n",
       "    <tr>\n",
       "      <th>0</th>\n",
       "      <td>0</td>\n",
       "      <td>5SuOikwiRyPMVoIQDJUgSV</td>\n",
       "      <td>Gen Hoshino</td>\n",
       "      <td>Comedy</td>\n",
       "      <td>Comedy</td>\n",
       "      <td>73</td>\n",
       "      <td>230666</td>\n",
       "      <td>False</td>\n",
       "      <td>0.676</td>\n",
       "      <td>0.4610</td>\n",
       "      <td>1</td>\n",
       "      <td>-6.746</td>\n",
       "      <td>0</td>\n",
       "      <td>0.1430</td>\n",
       "      <td>0.0322</td>\n",
       "      <td>0.000001</td>\n",
       "      <td>0.3580</td>\n",
       "      <td>0.715</td>\n",
       "      <td>87.917</td>\n",
       "      <td>4</td>\n",
       "      <td>acoustic</td>\n",
       "    </tr>\n",
       "    <tr>\n",
       "      <th>1</th>\n",
       "      <td>1</td>\n",
       "      <td>4qPNDBW1i3p13qLCt0Ki3A</td>\n",
       "      <td>Ben Woodward</td>\n",
       "      <td>Ghost (Acoustic)</td>\n",
       "      <td>Ghost - Acoustic</td>\n",
       "      <td>55</td>\n",
       "      <td>149610</td>\n",
       "      <td>False</td>\n",
       "      <td>0.420</td>\n",
       "      <td>0.1660</td>\n",
       "      <td>1</td>\n",
       "      <td>-17.235</td>\n",
       "      <td>1</td>\n",
       "      <td>0.0763</td>\n",
       "      <td>0.9240</td>\n",
       "      <td>0.000006</td>\n",
       "      <td>0.1010</td>\n",
       "      <td>0.267</td>\n",
       "      <td>77.489</td>\n",
       "      <td>4</td>\n",
       "      <td>acoustic</td>\n",
       "    </tr>\n",
       "    <tr>\n",
       "      <th>2</th>\n",
       "      <td>2</td>\n",
       "      <td>1iJBSr7s7jYXzM8EGcbK5b</td>\n",
       "      <td>Ingrid Michaelson;ZAYN</td>\n",
       "      <td>To Begin Again</td>\n",
       "      <td>To Begin Again</td>\n",
       "      <td>57</td>\n",
       "      <td>210826</td>\n",
       "      <td>False</td>\n",
       "      <td>0.438</td>\n",
       "      <td>0.3590</td>\n",
       "      <td>0</td>\n",
       "      <td>-9.734</td>\n",
       "      <td>1</td>\n",
       "      <td>0.0557</td>\n",
       "      <td>0.2100</td>\n",
       "      <td>0.000000</td>\n",
       "      <td>0.1170</td>\n",
       "      <td>0.120</td>\n",
       "      <td>76.332</td>\n",
       "      <td>4</td>\n",
       "      <td>acoustic</td>\n",
       "    </tr>\n",
       "    <tr>\n",
       "      <th>3</th>\n",
       "      <td>3</td>\n",
       "      <td>6lfxq3CG4xtTiEg7opyCyx</td>\n",
       "      <td>Kina Grannis</td>\n",
       "      <td>Crazy Rich Asians (Original Motion Picture Soundtrack)</td>\n",
       "      <td>Can't Help Falling In Love</td>\n",
       "      <td>71</td>\n",
       "      <td>201933</td>\n",
       "      <td>False</td>\n",
       "      <td>0.266</td>\n",
       "      <td>0.0596</td>\n",
       "      <td>0</td>\n",
       "      <td>-18.515</td>\n",
       "      <td>1</td>\n",
       "      <td>0.0363</td>\n",
       "      <td>0.9050</td>\n",
       "      <td>0.000071</td>\n",
       "      <td>0.1320</td>\n",
       "      <td>0.143</td>\n",
       "      <td>181.740</td>\n",
       "      <td>3</td>\n",
       "      <td>acoustic</td>\n",
       "    </tr>\n",
       "    <tr>\n",
       "      <th>4</th>\n",
       "      <td>4</td>\n",
       "      <td>5vjLSffimiIP26QG5WcN2K</td>\n",
       "      <td>Chord Overstreet</td>\n",
       "      <td>Hold On</td>\n",
       "      <td>Hold On</td>\n",
       "      <td>82</td>\n",
       "      <td>198853</td>\n",
       "      <td>False</td>\n",
       "      <td>0.618</td>\n",
       "      <td>0.4430</td>\n",
       "      <td>2</td>\n",
       "      <td>-9.681</td>\n",
       "      <td>1</td>\n",
       "      <td>0.0526</td>\n",
       "      <td>0.4690</td>\n",
       "      <td>0.000000</td>\n",
       "      <td>0.0829</td>\n",
       "      <td>0.167</td>\n",
       "      <td>119.949</td>\n",
       "      <td>4</td>\n",
       "      <td>acoustic</td>\n",
       "    </tr>\n",
       "  </tbody>\n",
       "</table>\n",
       "</div>"
      ],
      "text/plain": [
       "   Unnamed: 0                track_id                 artists  \\\n",
       "0           0  5SuOikwiRyPMVoIQDJUgSV             Gen Hoshino   \n",
       "1           1  4qPNDBW1i3p13qLCt0Ki3A            Ben Woodward   \n",
       "2           2  1iJBSr7s7jYXzM8EGcbK5b  Ingrid Michaelson;ZAYN   \n",
       "3           3  6lfxq3CG4xtTiEg7opyCyx            Kina Grannis   \n",
       "4           4  5vjLSffimiIP26QG5WcN2K        Chord Overstreet   \n",
       "\n",
       "                                               album_name  \\\n",
       "0                                                  Comedy   \n",
       "1                                        Ghost (Acoustic)   \n",
       "2                                          To Begin Again   \n",
       "3  Crazy Rich Asians (Original Motion Picture Soundtrack)   \n",
       "4                                                 Hold On   \n",
       "\n",
       "                   track_name  popularity  duration_ms  explicit  \\\n",
       "0                      Comedy          73       230666     False   \n",
       "1            Ghost - Acoustic          55       149610     False   \n",
       "2              To Begin Again          57       210826     False   \n",
       "3  Can't Help Falling In Love          71       201933     False   \n",
       "4                     Hold On          82       198853     False   \n",
       "\n",
       "   danceability  energy  key  loudness  mode  speechiness  acousticness  \\\n",
       "0         0.676  0.4610    1    -6.746     0       0.1430        0.0322   \n",
       "1         0.420  0.1660    1   -17.235     1       0.0763        0.9240   \n",
       "2         0.438  0.3590    0    -9.734     1       0.0557        0.2100   \n",
       "3         0.266  0.0596    0   -18.515     1       0.0363        0.9050   \n",
       "4         0.618  0.4430    2    -9.681     1       0.0526        0.4690   \n",
       "\n",
       "   instrumentalness  liveness  valence    tempo  time_signature track_genre  \n",
       "0          0.000001    0.3580    0.715   87.917               4    acoustic  \n",
       "1          0.000006    0.1010    0.267   77.489               4    acoustic  \n",
       "2          0.000000    0.1170    0.120   76.332               4    acoustic  \n",
       "3          0.000071    0.1320    0.143  181.740               3    acoustic  \n",
       "4          0.000000    0.0829    0.167  119.949               4    acoustic  "
      ]
     },
     "execution_count": 6,
     "metadata": {},
     "output_type": "execute_result"
    }
   ],
   "source": [
    "dataset.shape\n",
    "print(dataset.shape)\n",
    "print('\\n')\n",
    "dataset.info()\n",
    "print('\\n')\n",
    "dataset.head()"
   ]
  },
  {
   "cell_type": "markdown",
   "metadata": {},
   "source": [
    "# <a id='toc3_'></a>[Data Selection](#toc0_)"
   ]
  },
  {
   "cell_type": "markdown",
   "metadata": {},
   "source": [
    "## <a id='toc3_3_'></a>[Selecting 50% of the data](#toc0_)"
   ]
  },
  {
   "cell_type": "code",
   "execution_count": 3,
   "metadata": {},
   "outputs": [
    {
     "data": {
      "text/plain": [
       "track_genre\n",
       "techno               0.877193\n",
       "power-pop            0.877193\n",
       "j-pop                0.877193\n",
       "rockabilly           0.877193\n",
       "ska                  0.877193\n",
       "sertanejo            0.877193\n",
       "emo                  0.877193\n",
       "alt-rock             0.877193\n",
       "acoustic             0.877193\n",
       "turkish              0.877193\n",
       "j-dance              0.877193\n",
       "latin                0.877193\n",
       "drum-and-bass        0.877193\n",
       "minimal-techno       0.877193\n",
       "classical            0.877193\n",
       "garage               0.877193\n",
       "disco                0.877193\n",
       "electronic           0.877193\n",
       "world-music          0.877193\n",
       "punk-rock            0.877193\n",
       "german               0.877193\n",
       "funk                 0.877193\n",
       "iranian              0.877193\n",
       "folk                 0.877193\n",
       "mpb                  0.877193\n",
       "detroit-techno       0.877193\n",
       "dance                0.877193\n",
       "sleep                0.877193\n",
       "romance              0.877193\n",
       "french               0.877193\n",
       "brazil               0.877193\n",
       "anime                0.877193\n",
       "heavy-metal          0.877193\n",
       "alternative          0.877193\n",
       "ambient              0.877193\n",
       "electro              0.877193\n",
       "goth                 0.877193\n",
       "j-idol               0.877193\n",
       "r-n-b                0.877193\n",
       "rock-n-roll          0.877193\n",
       "cantopop             0.877193\n",
       "latino               0.877193\n",
       "metalcore            0.877193\n",
       "industrial           0.877193\n",
       "songwriter           0.877193\n",
       "kids                 0.877193\n",
       "comedy               0.877193\n",
       "trip-hop             0.877193\n",
       "sad                  0.877193\n",
       "club                 0.877193\n",
       "death-metal          0.877193\n",
       "hip-hop              0.877193\n",
       "edm                  0.877193\n",
       "happy                0.877193\n",
       "dancehall            0.877193\n",
       "pagode               0.877193\n",
       "progressive-house    0.877193\n",
       "idm                  0.877193\n",
       "k-pop                0.877193\n",
       "jazz                 0.877193\n",
       "hardcore             0.877193\n",
       "study                0.877193\n",
       "piano                0.877193\n",
       "pop                  0.877193\n",
       "tango                0.877193\n",
       "opera                0.877193\n",
       "country              0.877193\n",
       "rock                 0.877193\n",
       "house                0.877193\n",
       "honky-tonk           0.877193\n",
       "reggae               0.877193\n",
       "indie                0.877193\n",
       "j-rock               0.877193\n",
       "breakbeat            0.877193\n",
       "grindcore            0.877193\n",
       "party                0.877193\n",
       "disney               0.877193\n",
       "dubstep              0.877193\n",
       "synth-pop            0.877193\n",
       "hardstyle            0.877193\n",
       "gospel               0.877193\n",
       "punk                 0.877193\n",
       "soul                 0.877193\n",
       "spanish              0.877193\n",
       "psych-rock           0.877193\n",
       "bluegrass            0.877193\n",
       "metal                0.877193\n",
       "mandopop             0.877193\n",
       "chicago-house        0.877193\n",
       "indian               0.877193\n",
       "black-metal          0.877193\n",
       "guitar               0.877193\n",
       "chill                0.877193\n",
       "british              0.877193\n",
       "children             0.877193\n",
       "hard-rock            0.877193\n",
       "grunge               0.877193\n",
       "malay                0.877193\n",
       "singer-songwriter    0.877193\n",
       "blues                0.877193\n",
       "salsa                0.877193\n",
       "indie-pop            0.877193\n",
       "trance               0.877193\n",
       "groove               0.877193\n",
       "show-tunes           0.877193\n",
       "pop-film             0.877193\n",
       "swedish              0.877193\n",
       "new-age              0.877193\n",
       "afrobeat             0.877193\n",
       "dub                  0.877193\n",
       "reggaeton            0.877193\n",
       "samba                0.877193\n",
       "deep-house           0.877193\n",
       "forro                0.877193\n",
       "Name: proportion, dtype: float64"
      ]
     },
     "execution_count": 3,
     "metadata": {},
     "output_type": "execute_result"
    }
   ],
   "source": [
    "df, _, = train_test_split(dataset, train_size=0.5, stratify=dataset.track_genre)\n",
    "df.track_genre.value_counts(normalize=True) * 100"
   ]
  },
  {
   "cell_type": "markdown",
   "metadata": {},
   "source": [
    "## <a id='toc3_2_'></a>[Drop rows with missing values](#toc0_)"
   ]
  },
  {
   "cell_type": "code",
   "execution_count": 4,
   "metadata": {},
   "outputs": [],
   "source": [
    "df.dropna(inplace=True, axis=0, how='any')"
   ]
  },
  {
   "cell_type": "markdown",
   "metadata": {},
   "source": [
    "# <a id='toc4_'></a>[Removing Categorical Columns](#toc0_)"
   ]
  },
  {
   "cell_type": "code",
   "execution_count": 5,
   "metadata": {},
   "outputs": [
    {
     "name": "stdout",
     "output_type": "stream",
     "text": [
      "<class 'pandas.core.frame.DataFrame'>\n",
      "Index: 57000 entries, 109287 to 64972\n",
      "Data columns (total 12 columns):\n",
      " #   Column            Non-Null Count  Dtype  \n",
      "---  ------            --------------  -----  \n",
      " 0   popularity        57000 non-null  int64  \n",
      " 1   duration_ms       57000 non-null  int64  \n",
      " 2   danceability      57000 non-null  float64\n",
      " 3   energy            57000 non-null  float64\n",
      " 4   loudness          57000 non-null  float64\n",
      " 5   speechiness       57000 non-null  float64\n",
      " 6   acousticness      57000 non-null  float64\n",
      " 7   instrumentalness  57000 non-null  float64\n",
      " 8   liveness          57000 non-null  float64\n",
      " 9   valence           57000 non-null  float64\n",
      " 10  tempo             57000 non-null  float64\n",
      " 11  track_genre       57000 non-null  object \n",
      "dtypes: float64(9), int64(2), object(1)\n",
      "memory usage: 5.7+ MB\n"
     ]
    }
   ],
   "source": [
    "categorical_columns = ['Unnamed: 0', 'track_id', 'artists', 'album_name', 'track_name', 'explicit', 'key', 'mode', 'time_signature']\n",
    "df = df.drop(categorical_columns, axis=1)\n",
    "df.info()"
   ]
  },
  {
   "cell_type": "markdown",
   "metadata": {},
   "source": [
    "# <a id='toc5_'></a>[Split Train and Test Data](#toc0_)"
   ]
  },
  {
   "cell_type": "code",
   "execution_count": 6,
   "metadata": {},
   "outputs": [],
   "source": [
    "def train_validation_test_split(df, target_column, validation_size=0.1, test_size=0.1, random_state=42):\n",
    "    df_train, df_test = train_test_split(df, test_size=test_size, random_state=random_state, stratify=df[target_column])\n",
    "    \n",
    "    df_train, df_validation = train_test_split(df_train,\n",
    "                                               test_size=validation_size/(1 - test_size),\n",
    "                                               random_state=random_state,\n",
    "                                               stratify=df_train[target_column])\n",
    "    return df_train, df_validation, df_test  "
   ]
  },
  {
   "cell_type": "code",
   "execution_count": 7,
   "metadata": {},
   "outputs": [
    {
     "name": "stdout",
     "output_type": "stream",
     "text": [
      "<class 'pandas.core.frame.DataFrame'>\n",
      "Index: 57000 entries, 109287 to 64972\n",
      "Data columns (total 12 columns):\n",
      " #   Column            Non-Null Count  Dtype  \n",
      "---  ------            --------------  -----  \n",
      " 0   popularity        57000 non-null  int64  \n",
      " 1   duration_ms       57000 non-null  int64  \n",
      " 2   danceability      57000 non-null  float64\n",
      " 3   energy            57000 non-null  float64\n",
      " 4   loudness          57000 non-null  float64\n",
      " 5   speechiness       57000 non-null  float64\n",
      " 6   acousticness      57000 non-null  float64\n",
      " 7   instrumentalness  57000 non-null  float64\n",
      " 8   liveness          57000 non-null  float64\n",
      " 9   valence           57000 non-null  float64\n",
      " 10  tempo             57000 non-null  float64\n",
      " 11  track_genre       57000 non-null  object \n",
      "dtypes: float64(9), int64(2), object(1)\n",
      "memory usage: 5.7+ MB\n"
     ]
    }
   ],
   "source": [
    "df_train, df_validation, df_test = train_validation_test_split(df, \"track_genre\",0.2, 0.2)\n",
    "df.info()"
   ]
  },
  {
   "cell_type": "markdown",
   "metadata": {},
   "source": [
    "# <a id='toc6_'></a>[Data Cleaning](#toc0_)"
   ]
  },
  {
   "cell_type": "markdown",
   "metadata": {},
   "source": [
    "## <a id='toc6_1_'></a>[Impute missing numeric data](#toc0_)"
   ]
  },
  {
   "cell_type": "code",
   "execution_count": 8,
   "metadata": {},
   "outputs": [],
   "source": [
    "numeric_columns = df_train.select_dtypes(include=['number']).columns\n",
    "\n",
    "numeric_imputer = SimpleImputer(strategy='median')\n",
    "numeric_imputer.fit(df_train[numeric_columns])\n",
    "\n",
    "df_train[numeric_columns] = numeric_imputer.transform(df_train[numeric_columns])\n",
    "df_validation[numeric_columns] = numeric_imputer.transform(df_validation[numeric_columns])\n",
    "df_test[numeric_columns] = numeric_imputer.transform(df_test[numeric_columns])"
   ]
  },
  {
   "cell_type": "markdown",
   "metadata": {},
   "source": [
    "# <a id='toc7_'></a>[Data Normalization](#toc0_)"
   ]
  },
  {
   "cell_type": "code",
   "execution_count": 9,
   "metadata": {},
   "outputs": [],
   "source": [
    "normalizer = MinMaxScaler()\n",
    "\n",
    "normalizer.fit(df_train[numeric_columns])\n",
    "\n",
    "df_train[numeric_columns] = normalizer.transform(df_train[numeric_columns])\n",
    "df_validation[numeric_columns] = normalizer.transform(df_validation[numeric_columns])\n",
    "df_test[numeric_columns] = normalizer.transform(df_test[numeric_columns])"
   ]
  },
  {
   "cell_type": "markdown",
   "metadata": {},
   "source": [
    "# <a id='toc8_'></a>[Model training](#toc0_)"
   ]
  },
  {
   "cell_type": "markdown",
   "metadata": {},
   "source": [
    "## <a id='toc8_1_'></a>[KNN](#toc0_)"
   ]
  },
  {
   "cell_type": "code",
   "execution_count": 10,
   "metadata": {},
   "outputs": [],
   "source": [
    "#Div. de dados atributos e classe\n",
    "df_cara_train = df_train[numeric_columns].values  #caracteristicas\n",
    "df_clas_train = df_train['track_genre'].values #classe\n",
    "\n",
    "df_cara_validation = df_validation[numeric_columns].values  #caracteristicas\n",
    "df_clas_validation = df_validation['track_genre'].values #classe\n",
    "\n",
    "df_cara_test = df_test[numeric_columns].values  #caracteristicas\n",
    "df_clas_test = df_test['track_genre'].values #classe"
   ]
  },
  {
   "cell_type": "code",
   "execution_count": 15,
   "metadata": {},
   "outputs": [
    {
     "name": "stdout",
     "output_type": "stream",
     "text": [
      "[0.17642146 0.16329389 0.17569539 0.18255353 0.18487841 0.18497905\n",
      " 0.18571474 0.18558509 0.18439735 0.18390946 0.18471261 0.18363075\n",
      " 0.18432642 0.18249941 0.18229252 0.18081921 0.18064847 0.17945825\n",
      " 0.18035265 0.18077085 0.18020759 0.17949938 0.17908914 0.17729188\n",
      " 0.17638633 0.1755122  0.17498116 0.17538158 0.17400104 0.1734301\n",
      " 0.17364342 0.17314272 0.17297175 0.17271418 0.17284106 0.17179817\n",
      " 0.17102728 0.17071442 0.17032072 0.1699916  0.19087878 0.17709372\n",
      " 0.19216631 0.20037558 0.20299684 0.20438646 0.20579672 0.2060207\n",
      " 0.20554318 0.20704705 0.20546339 0.20397883 0.20322883 0.20269859\n",
      " 0.20266339 0.20243221 0.20196117 0.2032894  0.20320699 0.20277698\n",
      " 0.20199777 0.20158935 0.2010892  0.20000683 0.2008053  0.20033155\n",
      " 0.20090226 0.20082566 0.19990506 0.19897568 0.19675984 0.19692632\n",
      " 0.19693009 0.19699069 0.19636382 0.19595918 0.19710388 0.19526259\n",
      " 0.19516007 0.19519686] \n",
      "\n",
      "\n"
     ]
    }
   ],
   "source": [
    "knn = KNeighborsClassifier().fit(df_cara_train,df_clas_train)\n",
    "param_grid = {\n",
    "    'n_neighbors': np.arange(1,81,2),\n",
    "    'metric': ['euclidean', 'manhattan']\n",
    "}\n",
    "grid = GridSearchCV(knn, param_grid, cv=5, scoring='f1_weighted')\n",
    "grid.fit(df_cara_train,df_clas_train)\n",
    "print(grid.cv_results_['mean_test_score'],'\\n\\n')"
   ]
  },
  {
   "cell_type": "code",
   "execution_count": 16,
   "metadata": {},
   "outputs": [
    {
     "name": "stdout",
     "output_type": "stream",
     "text": [
      "Melhor parametro: {'metric': 'manhattan', 'n_neighbors': 19}\n",
      "Melhor resultado: 0.2070470527970792\n"
     ]
    }
   ],
   "source": [
    "print(f'Melhor parametro: {grid.best_params_}')\n",
    "print(f'Melhor resultado: {grid.best_score_}')"
   ]
  },
  {
   "cell_type": "code",
   "execution_count": 17,
   "metadata": {},
   "outputs": [
    {
     "name": "stdout",
     "output_type": "stream",
     "text": [
      "Dados de Teste\n",
      "{'accuracy': 0.22219298245614036, 'precision': 0.21172047138812577, 'recall': 0.22219298245614036, 'f1': 0.20959082363002624}\n"
     ]
    }
   ],
   "source": [
    "df_clas_pred = grid.best_estimator_.predict(df_cara_test)\n",
    "\n",
    "evaluation={\n",
    "'accuracy': accuracy_score(df_clas_test, df_clas_pred),\n",
    "'precision': precision_score(df_clas_test, df_clas_pred, average='weighted'),\n",
    "'recall': recall_score(df_clas_test, df_clas_pred, average='weighted'),\n",
    "'f1': f1_score(df_clas_test, df_clas_pred, average='weighted')\n",
    "}\n",
    "\n",
    "print(f'Dados de Teste')\n",
    "print(evaluation)"
   ]
  },
  {
   "cell_type": "markdown",
   "metadata": {},
   "source": [
    "## <a id='toc8_2_'></a>[LVQ](#toc0_)"
   ]
  },
  {
   "cell_type": "code",
   "execution_count": 21,
   "metadata": {},
   "outputs": [],
   "source": [
    "# Convert string column to float\n",
    "def str_column_to_float(dataset, column):\n",
    "\tfor row in dataset:\n",
    "\t\trow[column] = float(row[column].strip())\n",
    "\n",
    "# Convert string column to integer\n",
    "def str_column_to_int(dataset, column):\n",
    "\tclass_values = [row[column] for row in dataset]\n",
    "\tunique = set(class_values)\n",
    "\tlookup = dict()\n",
    "\tfor i, value in enumerate(unique):\n",
    "\t\tlookup[value] = i\n",
    "\tfor row in dataset:\n",
    "\t\trow[column] = lookup[row[column]]\n",
    "\treturn lookup\n",
    "\n",
    "# Split a dataset into k folds\n",
    "def cross_validation_split(dataset, n_folds):\n",
    "\tdataset_split = list()\n",
    "\tdataset_copy = list(dataset)\n",
    "\tfold_size = int(len(dataset) / n_folds)\n",
    "\tfor i in range(n_folds):\n",
    "\t\tfold = list()\n",
    "\t\twhile len(fold) < fold_size:\n",
    "\t\t\tindex = randrange(len(dataset_copy))\n",
    "\t\t\tfold.append(dataset_copy.pop(index))\n",
    "\t\tdataset_split.append(fold)\n",
    "\treturn dataset_split\n",
    "\n",
    "def accuracy_metric(actual, predicted):\n",
    "\tcorrect = 0\n",
    "\tfor i in range(len(actual)):\n",
    "\t\tif actual[i] == predicted[i]:\n",
    "\t\t\tcorrect += 1\n",
    "\treturn correct / float(len(actual)) * 100.0\n",
    "\n",
    "def calculate_metrics_per_class(actual, predicted, class_label):\n",
    "    TP = 0  # Verdadeiros Positivos\n",
    "    FP = 0  # Falsos Positivos\n",
    "    FN = 0  # Falsos Negativos\n",
    "    for i in range(len(actual)):\n",
    "        if actual[i] == predicted[i] == class_label:\n",
    "            TP += 1\n",
    "        elif predicted[i] == class_label and actual[i] != class_label:\n",
    "            FP += 1\n",
    "        elif actual[i] == class_label and predicted[i] != class_label:\n",
    "            FN += 1\n",
    "    return TP, FP, FN\n",
    "\n",
    "def macro_recall(actual, predicted):\n",
    "    unique_classes = set(actual)\n",
    "    recalls = []\n",
    "    for class_label in unique_classes:\n",
    "        TP, _, FN = calculate_metrics_per_class(actual, predicted, class_label)\n",
    "        recall = TP / (TP + FN) if (TP + FN) else 0\n",
    "        recalls.append(recall)\n",
    "    return sum(recalls) / len(recalls) * 100.0\n",
    "\n",
    "def macro_precision(actual, predicted):\n",
    "    unique_classes = set(actual)\n",
    "    precisions = []\n",
    "    for class_label in unique_classes:\n",
    "        TP, FP, _ = calculate_metrics_per_class(actual, predicted, class_label)\n",
    "        precision = TP / (TP + FP) if (TP + FP) else 0\n",
    "        precisions.append(precision)\n",
    "    return sum(precisions) / len(precisions) * 100.0\n",
    "\n",
    "def macro_f1_score(actual, predicted):\n",
    "    precision = macro_precision(actual, predicted) / 100.0\n",
    "    recall = macro_recall(actual, predicted) / 100.0\n",
    "    return 2 * (precision * recall) / (precision + recall) * 100.0 if (precision + recall) else 0\n",
    "\n",
    "\n",
    "# Evaluate an algorithm using a cross validation split\n",
    "def evaluate_algorithm(dataset, dataset_validation, algorithm, n_folds, *args):\n",
    "\tfolds = cross_validation_split(dataset, n_folds)\n",
    "\tscores_cv = list()\n",
    "\tscores_val = list()\n",
    "\t\n",
    "\tscores_cv_recall = list()\n",
    "\tscores_cv_precision = list()\n",
    "\tscores_cv_f1 = list()\n",
    "\n",
    "\tscores_val_recall = list()\n",
    "\tscores_val_precision = list()\n",
    "\tscores_val_f1 = list()\n",
    "\n",
    "\n",
    "\tactual_validation = [row[-1] for row in dataset_validation]\n",
    "\tfor fold in folds:\n",
    "\t\ttrain_set = list(folds)\n",
    "\t\ttrain_set.remove(fold)\n",
    "\t\ttrain_set = sum(train_set, [])\n",
    "\t\ttest_set = list()\n",
    "\t\tfor row in fold:\n",
    "\t\t\trow_copy = list(row)\n",
    "\t\t\ttest_set.append(row_copy)\n",
    "\t\t\trow_copy[-1] = None\n",
    "\t\tpredicted_test, predicted_validation = algorithm(train_set, test_set, dataset_validation, *args)\n",
    "\t\tactual = [row[-1] for row in fold]\n",
    "  \n",
    "\t\taccuracy_test = accuracy_metric(actual, predicted_test)\n",
    "\t\tscores_cv.append(accuracy_test)\n",
    "  \n",
    "\t\tscores_cv_recall.append(macro_recall(actual, predicted_test))\n",
    "\t\tscores_cv_precision.append(macro_precision(actual, predicted_test))\n",
    "\t\tscores_cv_f1.append(macro_f1_score(actual, predicted_test))\n",
    "  \n",
    "\t\taccuracy_val = accuracy_metric(actual_validation, predicted_validation)\n",
    "\t\tscores_val.append(accuracy_val)\n",
    "\t\t\n",
    "\t\tscores_val_recall.append(macro_recall(actual, predicted_validation))\n",
    "\t\tscores_val_precision.append(macro_precision(actual, predicted_validation))\n",
    "\t\tscores_val_f1.append(macro_f1_score(actual, predicted_validation))\n",
    "\n",
    "\treturn scores_cv, scores_val, scores_cv_recall, scores_val_recall, scores_cv_precision, scores_val_precision, scores_cv_f1, scores_val_f1 \n",
    "\n",
    "# calculate the Euclidean distance between two vectors\n",
    "def euclidean_distance(row1, row2):\n",
    "\tdistance = 0.0\n",
    "\tfor i in range(len(row1)-1):\n",
    "\t\tdistance += (row1[i] - row2[i])**2\n",
    "\treturn sqrt(distance)\n",
    "\n",
    "# Locate the best matching unit\n",
    "def get_best_matching_unit(codebooks, test_row):\n",
    "\tdistances = list()\n",
    "\tfor codebook in codebooks:\n",
    "\t\tdist = euclidean_distance(codebook, test_row)\n",
    "\t\tdistances.append((codebook, dist))\n",
    "\tdistances.sort(key=lambda tup: tup[1])\n",
    "\treturn distances[0][0]\n",
    "\n",
    "# Make a prediction with codebook vectors\n",
    "def predict(codebooks, test_row):\n",
    "\tbmu = get_best_matching_unit(codebooks, test_row)\n",
    "\treturn bmu[-1]\n",
    "\n",
    "# Create a random codebook vector\n",
    "def random_codebook(train):\n",
    "\tn_records = len(train)\n",
    "\tn_features = len(train[0])\n",
    "\tcodebook = [train[randrange(n_records)][i] for i in range(n_features)]\n",
    "\treturn codebook\n",
    "\n",
    "# Train a set of codebook vectors\n",
    "def train_codebooks(train, n_codebooks, lrate, epochs):\n",
    "\tcodebooks = [random_codebook(train) for i in range(n_codebooks)]\n",
    "\tfor epoch in range(epochs):\n",
    "\t\trate = lrate * (1.0-(epoch/float(epochs)))\n",
    "\t\tfor row in train:\n",
    "\t\t\tbmu = get_best_matching_unit(codebooks, row)\n",
    "\t\t\tfor i in range(len(row)-1):\n",
    "\t\t\t\terror = row[i] - bmu[i]\n",
    "\t\t\t\tif bmu[-1] == row[-1]:\n",
    "\t\t\t\t\tbmu[i] += rate * error\n",
    "\t\t\t\telse:\n",
    "\t\t\t\t\tbmu[i] -= rate * error\n",
    "\treturn codebooks\n",
    "\n",
    "# LVQ Algorithm\n",
    "def learning_vector_quantization(train, test, validation, n_codebooks, lrate, epochs):\n",
    "\tcodebooks = train_codebooks(train, n_codebooks, lrate, epochs)\n",
    "\tpredictions_test = list()\n",
    "\tpredictions_validation = list()\n",
    "\n",
    "\tfor row in test:\n",
    "\t\toutput = predict(codebooks, row)\n",
    "\t\tpredictions_test.append(output)\n",
    "\tfor row in validation:\n",
    "\t\toutput = predict(codebooks, row)\n",
    "\t\tpredictions_validation.append(output)\n",
    "  \n",
    "\treturn predictions_test, predictions_validation\n",
    "\n",
    "# Adjusting evaluation algorithm with cross validation split to consider F1-score\n",
    "def evaluate_algorithm(dataset, algorithm, n_folds, *args):\n",
    "\tfolds = cross_validation_split(dataset, n_folds)\n",
    "\tscores = list()\n",
    "\tfor fold in range(len(folds)):\n",
    "\t\ttrain_set = [folds[index] for index in range(len(folds)) if (not (index != fold))]\n",
    "\t\ttrain_set = sum(train_set, [])\n",
    "\t\ttest_set = list()\n",
    "\t\tfor row in folds[fold]:\n",
    "\t\t\trow_copy = list(row)\n",
    "\t\t\ttest_set.append(row_copy)\n",
    "\t\t\trow_copy[-1] = None\n",
    "\t\tpredicted = algorithm(train_set, test_set, *args)\n",
    "\t\tactual = [row[-1] for row in folds[fold]]\n",
    "\t\tf1score = f1_score(actual, predicted, average='weighted')\n",
    "\t\tscores.append(f1score)\n",
    "\treturn scores"
   ]
  },
  {
   "cell_type": "code",
   "execution_count": 22,
   "metadata": {},
   "outputs": [],
   "source": [
    "df_cara_train = df_train[numeric_columns].values  #caracteristicas\n",
    "df_clas_train = df_train['track_genre'].values #classe\n",
    "\n",
    "df_cara_validation = df_validation[numeric_columns].values  #caracteristicas\n",
    "df_clas_validation = df_validation['track_genre'].values #classe\n",
    "\n",
    "df_cara_test = df_test[numeric_columns].values  #caracteristicas\n",
    "df_clas_test = df_test['track_genre'].values #classe"
   ]
  },
  {
   "cell_type": "code",
   "execution_count": 23,
   "metadata": {},
   "outputs": [
    {
     "name": "stdout",
     "output_type": "stream",
     "text": [
      "0.01 40\n",
      "0.01 50\n",
      "0.01 60\n",
      "{(0.01, 40): {'cv_accuracy': 0.7865497076023391, 'validation_accuracy': 0.8771929824561402, 'cv_recall': 0.8771929824561402, 'validation_recall': 0.8771929824561402, 'cv_precision': 0.006899558838617011, 'validation_precision': 0.006899558838617011, 'cv_f1': 0.013687683109619469, 'validation_f1': 0.013687683109619469}, (0.01, 50): {'cv_accuracy': 0.8742690058479532, 'validation_accuracy': 0.8771929824561402, 'cv_recall': 0.8771929824561402, 'validation_recall': 0.8771929824561402, 'cv_precision': 0.00766902636708731, 'validation_precision': 0.00766902636708731, 'cv_f1': 0.015203534847939409, 'validation_f1': 0.015203534847939409}, (0.01, 60): {'cv_accuracy': 0.9239766081871345, 'validation_accuracy': 0.8771929824561402, 'cv_recall': 0.8771929824561402, 'validation_recall': 0.8771929824561402, 'cv_precision': 0.008105057966553812, 'validation_precision': 0.008105057966553812, 'cv_f1': 0.016060478273497235, 'validation_f1': 0.016060478273497235}}\n",
      "0.2 40\n",
      "0.2 50\n",
      "0.2 60\n",
      "{(0.01, 40): {'cv_accuracy': 0.7865497076023391, 'validation_accuracy': 0.8771929824561402, 'cv_recall': 0.8771929824561402, 'validation_recall': 0.8771929824561402, 'cv_precision': 0.006899558838617011, 'validation_precision': 0.006899558838617011, 'cv_f1': 0.013687683109619469, 'validation_f1': 0.013687683109619469}, (0.01, 50): {'cv_accuracy': 0.8742690058479532, 'validation_accuracy': 0.8771929824561402, 'cv_recall': 0.8771929824561402, 'validation_recall': 0.8771929824561402, 'cv_precision': 0.00766902636708731, 'validation_precision': 0.00766902636708731, 'cv_f1': 0.015203534847939409, 'validation_f1': 0.015203534847939409}, (0.01, 60): {'cv_accuracy': 0.9239766081871345, 'validation_accuracy': 0.8771929824561402, 'cv_recall': 0.8771929824561402, 'validation_recall': 0.8771929824561402, 'cv_precision': 0.008105057966553812, 'validation_precision': 0.008105057966553812, 'cv_f1': 0.016060478273497235, 'validation_f1': 0.016060478273497235}, (0.2, 40): {'cv_accuracy': 0.8625730994152047, 'validation_accuracy': 0.8771929824561402, 'cv_recall': 0.8771929824561402, 'validation_recall': 0.8771929824561402, 'cv_precision': 0.0075664306966246025, 'validation_precision': 0.0075664306966246025, 'cv_f1': 0.015002379455364484, 'validation_f1': 0.015002379455364484}, (0.2, 50): {'cv_accuracy': 0.8011695906432749, 'validation_accuracy': 0.8771929824561402, 'cv_recall': 0.8771929824561402, 'validation_recall': 0.8771929824561402, 'cv_precision': 0.007027803426695393, 'validation_precision': 0.007027803426695393, 'cv_f1': 0.013943798901517012, 'validation_f1': 0.013943798901517012}, (0.2, 60): {'cv_accuracy': 0.8567251461988304, 'validation_accuracy': 0.8771929824561402, 'cv_recall': 0.8771929824561402, 'validation_recall': 0.8771929824561402, 'cv_precision': 0.007515132861393249, 'validation_precision': 0.007515132861393249, 'cv_f1': 0.014901880892905955, 'validation_f1': 0.014901880892905955}}\n",
      "0.5 40\n",
      "0.5 50\n",
      "0.5 60\n",
      "{(0.01, 40): {'cv_accuracy': 0.7865497076023391, 'validation_accuracy': 0.8771929824561402, 'cv_recall': 0.8771929824561402, 'validation_recall': 0.8771929824561402, 'cv_precision': 0.006899558838617011, 'validation_precision': 0.006899558838617011, 'cv_f1': 0.013687683109619469, 'validation_f1': 0.013687683109619469}, (0.01, 50): {'cv_accuracy': 0.8742690058479532, 'validation_accuracy': 0.8771929824561402, 'cv_recall': 0.8771929824561402, 'validation_recall': 0.8771929824561402, 'cv_precision': 0.00766902636708731, 'validation_precision': 0.00766902636708731, 'cv_f1': 0.015203534847939409, 'validation_f1': 0.015203534847939409}, (0.01, 60): {'cv_accuracy': 0.9239766081871345, 'validation_accuracy': 0.8771929824561402, 'cv_recall': 0.8771929824561402, 'validation_recall': 0.8771929824561402, 'cv_precision': 0.008105057966553812, 'validation_precision': 0.008105057966553812, 'cv_f1': 0.016060478273497235, 'validation_f1': 0.016060478273497235}, (0.2, 40): {'cv_accuracy': 0.8625730994152047, 'validation_accuracy': 0.8771929824561402, 'cv_recall': 0.8771929824561402, 'validation_recall': 0.8771929824561402, 'cv_precision': 0.0075664306966246025, 'validation_precision': 0.0075664306966246025, 'cv_f1': 0.015002379455364484, 'validation_f1': 0.015002379455364484}, (0.2, 50): {'cv_accuracy': 0.8011695906432749, 'validation_accuracy': 0.8771929824561402, 'cv_recall': 0.8771929824561402, 'validation_recall': 0.8771929824561402, 'cv_precision': 0.007027803426695393, 'validation_precision': 0.007027803426695393, 'cv_f1': 0.013943798901517012, 'validation_f1': 0.013943798901517012}, (0.2, 60): {'cv_accuracy': 0.8567251461988304, 'validation_accuracy': 0.8771929824561402, 'cv_recall': 0.8771929824561402, 'validation_recall': 0.8771929824561402, 'cv_precision': 0.007515132861393249, 'validation_precision': 0.007515132861393249, 'cv_f1': 0.014901880892905955, 'validation_f1': 0.014901880892905955}, (0.5, 40): {'cv_accuracy': 0.8450292397660819, 'validation_accuracy': 0.8771929824561402, 'cv_recall': 0.8771929824561402, 'validation_recall': 0.8771929824561402, 'cv_precision': 0.007412537190930543, 'validation_precision': 0.007412537190930543, 'cv_f1': 0.014700154266114632, 'validation_f1': 0.014700154266114632}, (0.5, 50): {'cv_accuracy': 0.9005847953216375, 'validation_accuracy': 0.8771929824561402, 'cv_recall': 0.8771929824561402, 'validation_recall': 0.8771929824561402, 'cv_precision': 0.007899866625628398, 'validation_precision': 0.007899866625628398, 'cv_f1': 0.01565674752929925, 'validation_f1': 0.01565674752929925}, (0.5, 60): {'cv_accuracy': 0.8567251461988304, 'validation_accuracy': 0.8771929824561402, 'cv_recall': 0.8771929824561402, 'validation_recall': 0.8771929824561402, 'cv_precision': 0.007515132861393247, 'validation_precision': 0.007515132861393247, 'cv_f1': 0.014900682322525893, 'validation_f1': 0.014900682322525893}}\n"
     ]
    }
   ],
   "source": [
    "# Test LVQ on Spotify Dataset\n",
    "n_folds = 5\n",
    "learn_rate = 0.1\n",
    "n_epochs = 20\n",
    "n_codebooks = 30\n",
    "# load and prepare data\n",
    "scores_cv, scores_vali, scores_cv_recall, scores_val_recall, scores_cv_precision, scores_val_precision, scores_cv_f1, scores_val_f1= evaluate_algorithm(df_train, \n",
    "                                                                                                                                                        learning_vector_quantization, n_folds, n_codebooks, learn_rate, n_epochs)\n",
    "print('Scores para cada fold: %s' % scores)\n",
    "print('Mean Accuracy: %.3f%%' % (sum(scores)/float(len(scores))))\n",
    "\n",
    "evaluation = {\n",
    "    'cv_accuracy': sum(scores_cv)/float(len(scores_cv)),\n",
    "    'validation_accuracy': sum(scores_vali)/float(len(scores_vali)),\n",
    "    'cv_recall': sum(scores_cv_recall)/float(len(scores_cv_recall)),\n",
    "    'validation_recall': sum(scores_val_recall)/float(len(scores_val_recall)),\n",
    "    'cv_precision': sum(scores_cv_precision)/float(len(scores_cv_precision)),\n",
    "    'validation_precision': sum(scores_val_precision)/float(len(scores_val_precision)),\n",
    "    'cv_f1': sum(scores_cv_f1)/float(len(scores_cv_f1)),\n",
    "    'validation_f1': sum(scores_val_f1)/float(len(scores_val_f1))\n",
    "}\n",
    "\n",
    "\n",
    "print(evaluation)\n"
   ]
  },
  {
   "cell_type": "code",
   "execution_count": 60,
   "metadata": {},
   "outputs": [
    {
     "name": "stdout",
     "output_type": "stream",
     "text": [
      "Scores CV: [0.804093567251462, 0.97953216374269, 1.0087719298245614, 0.8625730994152047, 0.8333333333333334]\n",
      "Scores Validation: [0.8771929824561403, 0.8771929824561403, 0.8771929824561403, 0.8771929824561403, 0.8771929824561403]\n",
      "Scores CV Recall: [0.8771929824561403, 0.8771929824561403, 0.8771929824561403, 0.8771929824561403, 0.8771929824561403]\n",
      "Scores Validation Recall: [0.8771929824561403, 0.8771929824561403, 0.8771929824561403, 0.8771929824561403, 0.8771929824561403]\n",
      "Scores CV Precision: [0.00705345234431107, 0.008592387401251667, 0.008848876577408434, 0.0075664306966246025, 0.007309941520467837]\n",
      "Scores Validation Precision: [0.00705345234431107, 0.008592387401251667, 0.008848876577408434, 0.0075664306966246025, 0.007309941520467837]\n",
      "Scores CV F1: [0.013994376804956552, 0.01701807726207077, 0.017521006162823476, 0.01500344570659872, 0.01449905756125852]\n",
      "Scores Validation F1: [0.013994376804956552, 0.01701807726207077, 0.017521006162823476, 0.01500344570659872, 0.01449905756125852]\n"
     ]
    }
   ],
   "source": [
    "dataset_train = df_train.values.tolist()\n",
    "dataset_test = df_test.values.tolist()\n",
    "\n",
    "n_folds = 5\n",
    "learn_rate = 0.1\n",
    "n_epochs = 20\n",
    "n_codebooks = 30\n",
    "\n",
    "scores = evaluate_algorithm(dataset_train, learning_vector_quantization, n_folds, n_codebooks, learn_rate, n_epochs)\n",
    "print('Scores para cada fold: %s' % scores)\n",
    "print('Mean Accuracy: %.3f%%' % (sum(scores)/float(len(scores))))\n",
    "\n",
    "print(\"Scores CV:\", scores_cv)\n",
    "print(\"Scores Validation:\", scores_vali)\n",
    "print(\"Scores CV Recall:\", scores_cv_recall)\n",
    "print(\"Scores Validation Recall:\", scores_val_recall)\n",
    "print(\"Scores CV Precision:\", scores_cv_precision)\n",
    "print(\"Scores Validation Precision:\", scores_val_precision)\n",
    "print(\"Scores CV F1:\", scores_cv_f1)\n",
    "print(\"Scores Validation F1:\", scores_val_f1)"
   ]
  },
  {
   "cell_type": "markdown",
   "metadata": {},
   "source": [
    "## <a id='toc8_3_'></a>[Decision Tree](#toc0_)"
   ]
  },
  {
   "cell_type": "code",
   "execution_count": null,
   "metadata": {},
   "outputs": [],
   "source": []
  },
  {
   "cell_type": "markdown",
   "metadata": {},
   "source": [
    "## <a id='toc8_4_'></a>[MLP](#toc0_)"
   ]
  },
  {
   "cell_type": "code",
   "execution_count": null,
   "metadata": {},
   "outputs": [],
   "source": []
  },
  {
   "cell_type": "markdown",
   "metadata": {},
   "source": [
    "## <a id='toc8_5_'></a>[SVM](#toc0_)"
   ]
  },
  {
   "cell_type": "code",
   "execution_count": 15,
   "metadata": {},
   "outputs": [],
   "source": [
    "#Div. de dados atributos e classe\n",
    "df_cara_train = df_train[numeric_columns].values  #caracteristicas\n",
    "df_clas_train = df_train['track_genre'].values #classe\n",
    "\n",
    "df_cara_validation = df_validation[numeric_columns].values  #caracteristicas\n",
    "df_clas_validation = df_validation['track_genre'].values #classe\n",
    "\n",
    "df_cara_test = df_test[numeric_columns].values  #caracteristicas\n",
    "df_clas_test = df_test['track_genre'].values #classe"
   ]
  },
  {
   "cell_type": "code",
   "execution_count": 16,
   "metadata": {},
   "outputs": [],
   "source": [
    "class_svm = SVC().fit(df_cara_train,df_clas_train)"
   ]
  },
  {
   "cell_type": "markdown",
   "metadata": {},
   "source": [
    "###CUIDADO AO RODAR A CÉLULA ABAIXO"
   ]
  },
  {
   "cell_type": "code",
   "execution_count": 17,
   "metadata": {},
   "outputs": [],
   "source": [
    "lista_kernels=['linear','rbf','poly']\n",
    "lista_c =[1,2,3,4,5,7,10,100]\n",
    "lista_gamma = [1,2,3,4,5,7,10,100]\n",
    "\n",
    "# Criando um dicionário com os hiperparâmetros e valores a serem testados\n",
    "param_grid = {'kernel': lista_kernels,'C': lista_c, 'gamma':lista_gamma}"
   ]
  },
  {
   "cell_type": "code",
   "execution_count": 18,
   "metadata": {},
   "outputs": [],
   "source": [
    "grid = GridSearchCV(class_svm, param_grid, cv=5, scoring='accuracy')\n",
    "grid.fit(df_cara_train,df_clas_train)"
   ]
  },
  {
   "cell_type": "code",
   "execution_count": 36,
   "metadata": {},
   "outputs": [
    {
     "data": {
      "text/plain": [
       "array([0.23959782, 0.24529967, 0.24655703, 0.24743428, 0.24910085,\n",
       "       0.2461184 , 0.17243205, 0.24614763, 0.2496857 , 0.25003663,\n",
       "       0.25120619, 0.24933483, 0.24588455, 0.17181803, 0.24822371,\n",
       "       0.25141093, 0.25392558, 0.25322383, 0.24965652, 0.24518281,\n",
       "       0.1715256 , 0.25117696, 0.25418874, 0.25462738, 0.25339931,\n",
       "       0.25018284, 0.24287283, 0.17140864, 0.25448113, 0.2567034 ,\n",
       "       0.25576777, 0.25237586, 0.24731738, 0.23977326, 0.17120395,\n",
       "       0.2579023 , 0.25857481, 0.25576782, 0.25217119, 0.24605999,\n",
       "       0.23573809, 0.17088231, 0.26281478, 0.25585556, 0.24801923,\n",
       "       0.24097225, 0.23056255, 0.22348627, 0.17041447])"
      ]
     },
     "execution_count": 36,
     "metadata": {},
     "output_type": "execute_result"
    }
   ],
   "source": [
    "grid.cv_results_['mean_test_score']"
   ]
  },
  {
   "cell_type": "code",
   "execution_count": 37,
   "metadata": {},
   "outputs": [
    {
     "name": "stdout",
     "output_type": "stream",
     "text": [
      "Melhor parametro: {'C': 100, 'gamma': 2}\n",
      "Melhor resultado: 0.26281478175137607\n"
     ]
    }
   ],
   "source": [
    "print(f'Melhor parametro: {grid.best_params_}')\n",
    "print(f'Melhor resultado: {grid.best_score_}')\n",
    "#lista_kernels=['linear','rbf']\n",
    "#lista_c =[2,3,4,5,7,10,100]\n",
    "#lista_gamma = [2,3,4,5,7,10,100]\n",
    "#Melhor parametro: {'C': 100, 'gamma': 2, 'kernel': 'rbf'}\n",
    "#Melhor resultado: 0.26281478175137607"
   ]
  },
  {
   "cell_type": "code",
   "execution_count": 39,
   "metadata": {},
   "outputs": [
    {
     "name": "stdout",
     "output_type": "stream",
     "text": [
      "Dados de Teste\n",
      "{'accuracy': 0.26570175438596494, 'precision': 0.2596195645386902, 'recall': 0.26570175438596494, 'f1': 0.2578082413357941}\n"
     ]
    }
   ],
   "source": [
    "# Predizendo os rótulos dos dados de teste\n",
    "df_clas_pred = grid.best_estimator_.predict(df_cara_test)\n",
    "\n",
    "evaluation={\n",
    "'accuracy': accuracy_score(df_clas_test, df_clas_pred),\n",
    "'precision': precision_score(df_clas_test, df_clas_pred, average='weighted'),\n",
    "'recall': recall_score(df_clas_test, df_clas_pred, average='weighted'),\n",
    "'f1': f1_score(df_clas_test, df_clas_pred, average='weighted')\n",
    "}\n",
    "\n",
    "print(f'Dados de Teste')\n",
    "print(evaluation)"
   ]
  },
  {
   "cell_type": "markdown",
   "metadata": {},
   "source": [
    "## <a id='toc8_6_'></a>[Stacking](#toc0_)"
   ]
  },
  {
   "cell_type": "code",
   "execution_count": null,
   "metadata": {},
   "outputs": [],
   "source": []
  },
  {
   "cell_type": "markdown",
   "metadata": {},
   "source": [
    "## <a id='toc8_7_'></a>[Random Forest](#toc0_)"
   ]
  },
  {
   "cell_type": "code",
   "execution_count": null,
   "metadata": {},
   "outputs": [],
   "source": []
  }
 ],
 "metadata": {
  "kernelspec": {
   "display_name": "llm",
   "language": "python",
   "name": "python3"
  },
  "language_info": {
   "codemirror_mode": {
    "name": "ipython",
    "version": 3
   },
   "file_extension": ".py",
   "mimetype": "text/x-python",
   "name": "python",
   "nbconvert_exporter": "python",
   "pygments_lexer": "ipython3",
   "version": "3.11.8"
  }
 },
 "nbformat": 4,
 "nbformat_minor": 2
}
