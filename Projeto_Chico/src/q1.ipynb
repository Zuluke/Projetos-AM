{
 "cells": [
  {
   "cell_type": "markdown",
   "metadata": {},
   "source": [
    "# Imports"
   ]
  },
  {
   "cell_type": "code",
   "execution_count": 1,
   "metadata": {},
   "outputs": [],
   "source": [
    "from kfcm_k_w1 import KFCM_K_W1\n",
    "import numpy as np\n",
    "from sklearn import datasets\n",
    "import pandas as pd\n",
    "import sklearn"
   ]
  },
  {
   "cell_type": "markdown",
   "metadata": {},
   "source": [
    "----"
   ]
  },
  {
   "cell_type": "markdown",
   "metadata": {},
   "source": [
    "# Read Datasets"
   ]
  },
  {
   "cell_type": "code",
   "execution_count": 2,
   "metadata": {},
   "outputs": [],
   "source": [
    "paths = [\"../Dataset/mfeat-fac\", \"../Dataset/mfeat-fou\", \"../Dataset/mfeat-zer\"]\n",
    "\n",
    "dfs = [pd.read_csv(path, delim_whitespace=True, header=None) for path in paths]"
   ]
  },
  {
   "cell_type": "code",
   "execution_count": 3,
   "metadata": {},
   "outputs": [],
   "source": [
    "Xs = []\n",
    "ys = []\n",
    "for df in dfs:\n",
    "    # Label creation\n",
    "    df[\"digit\"] = [i for i in range(10) for __ in range(200)]\n",
    "    Xs.append(df.drop(\"digit\", axis=1).values)\n",
    "    ys.append(df[\"digit\"].values)"
   ]
  },
  {
   "cell_type": "code",
   "execution_count": 6,
   "metadata": {},
   "outputs": [
    {
     "name": "stdout",
     "output_type": "stream",
     "text": [
      "Iteration 1: J = 16.086376059080592\n",
      "(2000,) (2000,)\n",
      "{'MPC': 0.1591985655747652, 'rand': 0.21673119047471112}\n",
      "Iteration 2: J = 15.684761490044774\n",
      "(2000,) (2000,)\n",
      "{'MPC': 0.20183710896109752, 'rand': 0.21785241865814658}\n",
      "Iteration 3: J = 15.242357929166875\n",
      "(2000,) (2000,)\n",
      "{'MPC': 0.23356398385358423, 'rand': 0.21599626569034025}\n",
      "Iteration 4: J = 14.978256237916696\n",
      "(2000,) (2000,)\n",
      "{'MPC': 0.2565906794875563, 'rand': 0.2120738841096184}\n",
      "Iteration 5: J = 14.805239741138754\n",
      "(2000,) (2000,)\n",
      "{'MPC': 0.2768161776589626, 'rand': 0.20935047943214402}\n",
      "Iteration 6: J = 14.686357077129694\n",
      "(2000,) (2000,)\n",
      "{'MPC': 0.29305814054148327, 'rand': 0.21051838436473022}\n",
      "Iteration 7: J = 14.608878659290006\n",
      "(2000,) (2000,)\n",
      "{'MPC': 0.3051841397211047, 'rand': 0.20763743802442863}\n",
      "Iteration 8: J = 14.555449171210686\n",
      "(2000,) (2000,)\n",
      "{'MPC': 0.3142600140974606, 'rand': 0.2069380255178426}\n",
      "Iteration 9: J = 14.512901941499972\n",
      "(2000,) (2000,)\n",
      "{'MPC': 0.3213333510271469, 'rand': 0.20762872800956866}\n",
      "Iteration 10: J = 14.472162780508048\n",
      "(2000,) (2000,)\n",
      "{'MPC': 0.3274180796224744, 'rand': 0.2075925557569195}\n",
      "Iteration 11: J = 14.432615644671854\n",
      "(2000,) (2000,)\n",
      "{'MPC': 0.3329500435190337, 'rand': 0.20958050346025353}\n",
      "Iteration 12: J = 14.402499959537852\n",
      "(2000,) (2000,)\n",
      "{'MPC': 0.33763471088019537, 'rand': 0.21030915429681346}\n",
      "Iteration 13: J = 14.381880788259354\n",
      "(2000,) (2000,)\n",
      "{'MPC': 0.34148724938601727, 'rand': 0.20986340062603315}\n",
      "Iteration 14: J = 14.36586206800233\n",
      "(2000,) (2000,)\n",
      "{'MPC': 0.3448956317303947, 'rand': 0.20957225833982898}\n",
      "Iteration 15: J = 14.352390085113694\n",
      "(2000,) (2000,)\n",
      "{'MPC': 0.348040507029557, 'rand': 0.20944654948022703}\n",
      "Iteration 16: J = 14.341076738789692\n",
      "(2000,) (2000,)\n",
      "{'MPC': 0.35088979437131596, 'rand': 0.20940096051796328}\n",
      "Iteration 17: J = 14.331806496888635\n",
      "(2000,) (2000,)\n",
      "{'MPC': 0.35334648297616833, 'rand': 0.2101280256486425}\n",
      "Iteration 18: J = 14.324288941822727\n",
      "(2000,) (2000,)\n",
      "{'MPC': 0.3553703294400199, 'rand': 0.20889227353855663}\n",
      "Iteration 19: J = 14.31810603050142\n",
      "(2000,) (2000,)\n",
      "{'MPC': 0.35701278204767595, 'rand': 0.2102062529368185}\n",
      "Iteration 20: J = 14.312822515395837\n",
      "(2000,) (2000,)\n",
      "{'MPC': 0.3583802271943136, 'rand': 0.2105163178679067}\n",
      "Iteration 21: J = 14.308058557196963\n",
      "(2000,) (2000,)\n",
      "{'MPC': 0.35958784107378183, 'rand': 0.2115618540365946}\n",
      "Iteration 22: J = 14.303507951305365\n",
      "(2000,) (2000,)\n",
      "{'MPC': 0.3607381906774796, 'rand': 0.21143913991416854}\n",
      "Iteration 23: J = 14.298941357096465\n",
      "(2000,) (2000,)\n",
      "{'MPC': 0.3619152291464697, 'rand': 0.21214614383779404}\n"
     ]
    },
    {
     "ename": "KeyboardInterrupt",
     "evalue": "",
     "output_type": "error",
     "traceback": [
      "\u001b[0;31m---------------------------------------------------------------------------\u001b[0m",
      "\u001b[0;31mKeyboardInterrupt\u001b[0m                         Traceback (most recent call last)",
      "Cell \u001b[0;32mIn[6], line 8\u001b[0m\n\u001b[1;32m      5\u001b[0m random_state \u001b[38;5;241m=\u001b[39m \u001b[38;5;241m42\u001b[39m\n\u001b[1;32m      7\u001b[0m kfcm \u001b[38;5;241m=\u001b[39m KFCM_K_W1(n_clusters\u001b[38;5;241m=\u001b[39mn_clusters, m\u001b[38;5;241m=\u001b[39mm, n_iter\u001b[38;5;241m=\u001b[39mmax_iter, epsilon\u001b[38;5;241m=\u001b[39mtol, random_state\u001b[38;5;241m=\u001b[39mrandom_state)\n\u001b[0;32m----> 8\u001b[0m \u001b[43mkfcm\u001b[49m\u001b[38;5;241;43m.\u001b[39;49m\u001b[43mfit\u001b[49m\u001b[43m(\u001b[49m\u001b[43mXs\u001b[49m\u001b[43m[\u001b[49m\u001b[38;5;241;43m2\u001b[39;49m\u001b[43m]\u001b[49m\u001b[43m,\u001b[49m\u001b[43m \u001b[49m\u001b[43mys\u001b[49m\u001b[43m[\u001b[49m\u001b[38;5;241;43m2\u001b[39;49m\u001b[43m]\u001b[49m\u001b[43m)\u001b[49m\n",
      "File \u001b[0;32m~/Documents/Projetos-AM/Projeto_Chico/src/kfcm_k_w1.py:143\u001b[0m, in \u001b[0;36mKFCM_K_W1.fit\u001b[0;34m(self, X, y)\u001b[0m\n\u001b[1;32m    140\u001b[0m \u001b[38;5;28mself\u001b[39m\u001b[38;5;241m.\u001b[39m_update_G()\n\u001b[1;32m    142\u001b[0m \u001b[38;5;66;03m# Computation of the membership degrees\u001b[39;00m\n\u001b[0;32m--> 143\u001b[0m \u001b[38;5;28;43mself\u001b[39;49m\u001b[38;5;241;43m.\u001b[39;49m\u001b[43m_update_U\u001b[49m\u001b[43m(\u001b[49m\u001b[43m)\u001b[49m\n\u001b[1;32m    145\u001b[0m J_new \u001b[38;5;241m=\u001b[39m \u001b[38;5;28mself\u001b[39m\u001b[38;5;241m.\u001b[39mcalculate_objective_function()\n\u001b[1;32m    147\u001b[0m \u001b[38;5;28;01mif\u001b[39;00m \u001b[38;5;28mself\u001b[39m\u001b[38;5;241m.\u001b[39mverbose:\n",
      "File \u001b[0;32m~/Documents/Projetos-AM/Projeto_Chico/src/kfcm_k_w1.py:66\u001b[0m, in \u001b[0;36mKFCM_K_W1._update_U\u001b[0;34m(self)\u001b[0m\n\u001b[1;32m     63\u001b[0m ratio \u001b[38;5;241m=\u001b[39m (numerator \u001b[38;5;241m/\u001b[39m denominator) \u001b[38;5;241m*\u001b[39m\u001b[38;5;241m*\u001b[39m (\u001b[38;5;241m1\u001b[39m \u001b[38;5;241m/\u001b[39m (\u001b[38;5;28mself\u001b[39m\u001b[38;5;241m.\u001b[39m_m \u001b[38;5;241m-\u001b[39m \u001b[38;5;241m1\u001b[39m))\n\u001b[1;32m     64\u001b[0m \u001b[38;5;66;03m#print(\"------ U ------\")\u001b[39;00m\n\u001b[1;32m     65\u001b[0m \u001b[38;5;66;03m#print(1/np.sum(ratio, axis=2))\u001b[39;00m\n\u001b[0;32m---> 66\u001b[0m \u001b[38;5;28mself\u001b[39m\u001b[38;5;241m.\u001b[39m_U \u001b[38;5;241m=\u001b[39m \u001b[38;5;241m1\u001b[39m\u001b[38;5;241m/\u001b[39m\u001b[43mnp\u001b[49m\u001b[38;5;241;43m.\u001b[39;49m\u001b[43msum\u001b[49m\u001b[43m(\u001b[49m\u001b[43mratio\u001b[49m\u001b[43m,\u001b[49m\u001b[43m \u001b[49m\u001b[43maxis\u001b[49m\u001b[38;5;241;43m=\u001b[39;49m\u001b[38;5;241;43m2\u001b[39;49m\u001b[43m)\u001b[49m\n",
      "File \u001b[0;32m<__array_function__ internals>:177\u001b[0m, in \u001b[0;36msum\u001b[0;34m(*args, **kwargs)\u001b[0m\n",
      "\u001b[0;31mKeyboardInterrupt\u001b[0m: "
     ]
    }
   ],
   "source": [
    "n_clusters = 10\n",
    "m = 1.3\n",
    "max_iter = 100\n",
    "tol = 1e-6\n",
    "random_state = 42\n",
    "\n",
    "kfcm = KFCM_K_W1(n_clusters=n_clusters, m=m, n_iter=max_iter, epsilon=tol, random_state=random_state)\n",
    "kfcm.fit(Xs[2], ys[2])"
   ]
  },
  {
   "cell_type": "code",
   "execution_count": 36,
   "metadata": {},
   "outputs": [
    {
     "name": "stdout",
     "output_type": "stream",
     "text": [
      "Iteration 1: J = 1.5657561863963276\n",
      "Iteration 2: J = 1.4823422989006756\n",
      "Iteration 3: J = 1.4681587844917345\n",
      "Iteration 4: J = 1.4644498232395544\n",
      "Iteration 5: J = 1.463953328992831\n",
      "Iteration 6: J = 1.464245026667336\n",
      "Iteration 7: J = 1.4646459140526897\n",
      "Iteration 8: J = 1.4649847144448598\n",
      "Iteration 9: J = 1.465236020663765\n",
      "Iteration 10: J = 1.4654125379234362\n",
      "Iteration 11: J = 1.4655331848531268\n",
      "Iteration 12: J = 1.4656144074348352\n",
      "Iteration 13: J = 1.465668603031836\n",
      "Iteration 14: J = 1.4657045676571285\n",
      "Iteration 15: J = 1.465728352099294\n",
      "Iteration 16: J = 1.4657440468927712\n",
      "Iteration 17: J = 1.4657543888289046\n",
      "Iteration 18: J = 1.4657611972685236\n",
      "Iteration 19: J = 1.4657656767940899\n",
      "Iteration 20: J = 1.4657686228807054\n",
      "Iteration 21: J = 1.465770559958201\n",
      "Iteration 22: J = 1.4657718333879988\n",
      "Iteration 23: J = 1.46577267044454\n"
     ]
    }
   ],
   "source": [
    "\n",
    "X = sklearn.datasets.load_iris().data\n",
    "k = KFCM_K_W1(n_clusters=3, m=1.6, n_iter=1000, epsilon=tol, random_state=random_state)\n",
    "k.fit(X)"
   ]
  },
  {
   "cell_type": "code",
   "execution_count": null,
   "metadata": {},
   "outputs": [],
   "source": []
  }
 ],
 "metadata": {
  "kernelspec": {
   "display_name": "llm",
   "language": "python",
   "name": "python3"
  },
  "language_info": {
   "codemirror_mode": {
    "name": "ipython",
    "version": 3
   },
   "file_extension": ".py",
   "mimetype": "text/x-python",
   "name": "python",
   "nbconvert_exporter": "python",
   "pygments_lexer": "ipython3",
   "version": "3.11.3"
  }
 },
 "nbformat": 4,
 "nbformat_minor": 2
}
